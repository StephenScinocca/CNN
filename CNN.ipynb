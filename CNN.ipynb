{
  "nbformat": 4,
  "nbformat_minor": 0,
  "metadata": {
    "colab": {
      "name": "CNN.ipynb",
      "provenance": [],
      "collapsed_sections": [],
      "authorship_tag": "ABX9TyPm8e/vRIrXQD/RxLtHq6si",
      "include_colab_link": true
    },
    "kernelspec": {
      "name": "python3",
      "display_name": "Python 3"
    },
    "language_info": {
      "name": "python"
    },
    "accelerator": "GPU"
  },
  "cells": [
    {
      "cell_type": "markdown",
      "metadata": {
        "id": "view-in-github",
        "colab_type": "text"
      },
      "source": [
        "<a href=\"https://colab.research.google.com/github/StephenScinocca/CNN/blob/main/CNN.ipynb\" target=\"_parent\"><img src=\"https://colab.research.google.com/assets/colab-badge.svg\" alt=\"Open In Colab\"/></a>"
      ]
    },
    {
      "cell_type": "markdown",
      "metadata": {
        "id": "9kCLUDh42J0q"
      },
      "source": [
        "All of the different packages used for this notebook\n"
      ]
    },
    {
      "cell_type": "code",
      "metadata": {
        "id": "WIlQ_SKJxLHU"
      },
      "source": [
        "%matplotlib inline\n",
        "\n",
        "import torch\n",
        "import torch.nn as nn\n",
        "import torch.optim as optim\n",
        "import torch.nn.functional as F\n",
        "from torch.utils.data import DataLoader, SubsetRandomSampler\n",
        "\n",
        "import numpy as np\n",
        "import math \n",
        "from sklearn.model_selection import train_test_split\n",
        "\n",
        "import torchvision\n",
        "import torchvision.transforms as T\n",
        "import torchvision.models as models\n",
        "\n",
        "import matplotlib.pyplot as plt\n",
        "\n",
        "import os\n",
        "import copy\n",
        "from PIL import Image, ImageFilter\n",
        "import matplotlib.cm as mpl_color_map\n"
      ],
      "execution_count": 21,
      "outputs": []
    },
    {
      "cell_type": "markdown",
      "metadata": {
        "id": "PF6xDb4bsplp"
      },
      "source": [
        "# Functions\n",
        "\n",
        "The following functions are called for my model, and they are:\n",
        "\n",
        "## Setup of Model\n",
        "\n",
        "### get_device()\n",
        "  Checks to see what device (cpu or cuda) we are using\n",
        "\n",
        "### to_device(data, device)\n",
        "  Sets data to go to that device so we can use a GPU on google docs"
      ]
    },
    {
      "cell_type": "code",
      "metadata": {
        "id": "gi5rufD6yGhz"
      },
      "source": [
        "def get_device():\n",
        "    if torch.cuda.is_available():\n",
        "        return torch.device(\"cuda\")\n",
        "    return torch.device(\"cpu\")\n",
        "\n",
        "def to_device(data,device):\n",
        "    if isinstance(data,(list,tuple)):\n",
        "        return [to_device(x,device) for x in data]\n",
        "    return data.to(device,non_blocking=True)\n",
        "\n",
        "\n",
        "class ToDeviceLoader:\n",
        "    def __init__(self,data,device):\n",
        "        self.data = data\n",
        "        self.device = device\n",
        "        \n",
        "    def __iter__(self):\n",
        "        for batch in self.data:\n",
        "            yield to_device(batch,self.device)\n",
        "            \n",
        "    def __len__(self):\n",
        "        return len(self.data)\n"
      ],
      "execution_count": 22,
      "outputs": []
    },
    {
      "cell_type": "markdown",
      "metadata": {
        "id": "MRxE_mA0tdFP"
      },
      "source": [
        "## In use by Model\n",
        "\n",
        "### convolutions(in_channel,out_channel,kernel, pad = 0) \n",
        "Takes in starting channels, the ending channels, kernel size, and padding, then does a 2d convultion followed up by batch normalization\n",
        "\n",
        "### training (epochs, optimizer, scheduler, criterion, trainloader, validloader, net) \n",
        "Takes in all of the information needed to train the convolutional neural net and trains it over the number of epochs past into it. At the end, it outputs the trained network as net, training loss, validation loss, and valodaition accuracy, witht he last 3 being lists of each loss and accuracy after each epoch.\n",
        "\n",
        "\n",
        "### accuracy(net, loader, k = 1)\n",
        "Taking in a trained network and a loader (trainloader, testloader, validloader), and k which is top k accuracy. The default is k = 1, or top 1 accuracy. It prints out the accuracy of the model at the end\n",
        "\n",
        "### validation_a_and_l(net, validloader, criterion, epoch)\n",
        "\n",
        "Gets the validation accuracy and the validation loss, is called after training is finishe don an epoch. It prints out the loss and accuracy to the console, and also returns the values. \n",
        "\n",
        "### plot_losses(val_losses, losses, epochs)\n",
        "\n",
        "Plots the loss values of training and validation each epoch\n",
        "\n",
        "### plot_accuracy(val_accuracy, epochs)\n",
        "\n",
        "Plots the accuracy of the validation set each epoch"
      ]
    },
    {
      "cell_type": "code",
      "metadata": {
        "id": "E6-n1M50tcQx"
      },
      "source": [
        "# for each convolutional layer, does the convolution then does batch normalization\n",
        "def convolutions(in_channel,out_channel,kernel, pad = 0):\n",
        "  layers = [nn.Conv2d(in_channel,out_channel,kernel, padding = pad),\n",
        "             nn.BatchNorm2d(out_channel)]\n",
        "  return nn.Sequential(*layers)\n",
        "\n",
        "def training (epochs, optimizer, scheduler, criterion, trainloader, validloader, net):\n",
        "  # tracking the training loss per epoch\n",
        "  train_losses = []\n",
        "  # tracking the validation loss per epoch\n",
        "  val_losses = []\n",
        "  # tracking the validation accuracy per epoch\n",
        "  val_accuracy = []\n",
        "  for epoch in range(epochs):\n",
        "      #sets the network in training mode\n",
        "      net.train()\n",
        "      # running loss is the loss per epoch\n",
        "      running_loss = 0.0\n",
        "      for i, data in enumerate(trainloader, 0):\n",
        "          inputs, labels = data\n",
        "          optimizer.zero_grad()\n",
        "          # Gives you the outputs of each image in the batch\n",
        "          outputs = net(inputs)\n",
        "          # Calculates the loss of each \n",
        "          loss = criterion(outputs, labels)\n",
        "          # Computes gradients for each parameter\n",
        "          loss.backward()\n",
        "          # Optimizer updates\n",
        "          optimizer.step()\n",
        "          # scheduelr updates\n",
        "          scheduler.step()\n",
        "          # tracks the loss of each item in the batch and adds them to running loss\n",
        "          running_loss += loss.item()\n",
        "          \n",
        "      # prints out the training loss\n",
        "      print('[{}] Training loss: {:.3f}'.format(epoch, running_loss / len(trainloader)))\n",
        "      train_losses.append(running_loss / len(trainloader))\n",
        "      val_l, val_a = validation_a_and_l(net, validloader, criterion, epoch)\n",
        "      val_losses.append(val_l)\n",
        "      val_accuracy.append(val_a)\n",
        "  print(\"Finished Training\")\n",
        "  return (net, train_losses, val_losses, val_accuracy)\n",
        "\n",
        "\n",
        "def accuracy(net, loader, k = 1):\n",
        "  # number of correct predictions\n",
        "  correct = 0\n",
        "  # total number of labels (= 10000)\n",
        "  total = 0\n",
        "  # puts net in evaluation mode\n",
        "  net.eval()\n",
        "  with torch.no_grad():\n",
        "    # loads in the data one batch at a time\n",
        "    for data in loader:\n",
        "        images, labels = data\n",
        "        # outputs is the new output from running those images through the net\n",
        "        outputs = net(images)\n",
        "        # gets predictions from network (top k)\n",
        "        _, predicted = torch.topk(outputs.data, k, dim = 1)\n",
        "        # transpose the predictions\n",
        "        predicted = predicted.t()\n",
        "        # expand the labels to be the same length as the predictions\n",
        "        labels_expanded = labels.view(1, -1).expand_as(predicted)\n",
        "        # if any of the top k choices match with the label adds to correct\n",
        "        topk_correct = (predicted == labels_expanded)\n",
        "        # reshape topk_correct \n",
        "        topk_matched_truth = topk_correct.reshape(-1).float()\n",
        "        # actually gets the number of correct lable sin the top k amount\n",
        "        correct += topk_matched_truth.float().sum(dim=0, keepdim=True)\n",
        "        # adds the total per batch\n",
        "        total += labels.size(0)\n",
        "  # prints the top k accuracy for the loader (usually testloader passed in)\n",
        "  print(\"Top {} accuracy: {:.1f}%\".format(k, 100 * int(correct) / total))\n",
        "\n",
        "\n",
        "def validation_a_and_l(net, validloader, criterion, epoch):\n",
        "  # number of correct predictions\n",
        "  correct = 0\n",
        "  # total number of labels (= 10000)\n",
        "  total = 0\n",
        "  # Running loss of validation\n",
        "  running_loss = 0.0\n",
        "  # puts net in evaluation mode\n",
        "  net.eval()\n",
        "  with torch.no_grad():\n",
        "    # loads in the data one batch at a time\n",
        "    for data in validloader:\n",
        "        # gets the images and labels from that batch\n",
        "        images, labels = data\n",
        "        # outputs is the new output from running those images through the net\n",
        "        outputs = net(images)\n",
        "        # gets predictions from network (top 1)\n",
        "        _, predicted = torch.max(outputs.data, 1)\n",
        "        # updates the total each batch\n",
        "        total += labels.size(0)\n",
        "        # updates with the total number of correct predictions each batch\n",
        "        correct += (predicted == labels).sum().item()\n",
        "        # updated the valiadation loss each batch\n",
        "        val_loss = criterion(outputs, labels)\n",
        "        # updates running loss with the new valiation loss\n",
        "        running_loss += val_loss\n",
        "  # prints the valiadtion loss and accuracy in this epoch\n",
        "  print('[{}] Validation loss: {:.3f}'.format(epoch, running_loss / len(validloader)))\n",
        "  print(\"[{}] Accuracy of validation set: {:.1f}%\".format(epoch, 100 * correct / total))\n",
        "  # returns the validation loss and accuracy in this epoch\n",
        "  return (running_loss / len(validloader), correct / total)\n",
        "\n",
        "# plots the losses\n",
        "def plot_losses(val_losses, train_losses, epochs):\n",
        "  plt.plot(val_losses, label = \"Validation\")\n",
        "  plt.plot(train_losses, label = \"Training\")\n",
        "  plt.xlabel(\"epochs\")\n",
        "  plt.ylabel(\"Losses\")\n",
        "  plt.legend(title = \"Losses\")\n",
        "  plt.title(\"Losses over {} epochs\".format(epochs))\n",
        "\n",
        "# plots the accuracy  \n",
        "def plot_accuracy(accuracy, epochs):\n",
        "  plt.plot(accuracy)\n",
        "  plt.xlabel(\"epochs\")\n",
        "  plt.ylabel(\"Accuracy\")\n",
        "  plt.title(\"Validation Accuracy over {} epochs\".format(epochs))\n"
      ],
      "execution_count": 23,
      "outputs": []
    },
    {
      "cell_type": "markdown",
      "metadata": {
        "id": "Svn6zLZfa7eD"
      },
      "source": [
        "This next section is used to find out the normalize value by finding out the mean and standard deviation of our data, so we can normalize between 0 and 1."
      ]
    },
    {
      "cell_type": "code",
      "metadata": {
        "colab": {
          "base_uri": "https://localhost:8080/"
        },
        "id": "gj4ktjPTYwhV",
        "outputId": "6e51b316-9554-4f0b-b716-f8dfbdf642dc"
      },
      "source": [
        "transform = T.Compose([\n",
        "    T.ToTensor()\n",
        "])\n",
        "testset = torchvision.datasets.CIFAR100(root='./data', train = False,\n",
        "                                         download = True, transform = transform)\n",
        "\n",
        "dataloader = torch.utils.data.DataLoader(testset, batch_size=256, shuffle=False, num_workers=2)\n",
        "\n",
        "mean = []\n",
        "std = []\n",
        "for i, data in enumerate(dataloader, 0):\n",
        "    # shape (batch_size, 3, height, width)\n",
        "    inputs, labels = data\n",
        "\n",
        "    numpy_image = inputs.numpy()\n",
        "\n",
        "    # shape (3,)\n",
        "    batch_mean = np.mean(numpy_image, axis=(0,2,3))\n",
        "    batch_std = np.std(numpy_image, axis=(0,2,3))\n",
        "    \n",
        "    mean.append(batch_mean)\n",
        "    std.append(batch_std)\n",
        "\n",
        "# shape (num_iterations, 3) -> (mean across 0th axis) -> shape (3,)\n",
        "mean = np.array(mean).mean(axis=0)\n",
        "std = np.array(std).mean(axis=0)\n",
        "\n",
        "print(mean)\n",
        "print(std)"
      ],
      "execution_count": 27,
      "outputs": [
        {
          "output_type": "stream",
          "name": "stdout",
          "text": [
            "Files already downloaded and verified\n",
            "[0.5066172  0.48587695 0.44015914]\n",
            "[0.26701313 0.2561134  0.275536  ]\n"
          ]
        }
      ]
    },
    {
      "cell_type": "markdown",
      "metadata": {
        "id": "Mk1Mln8ebOs3"
      },
      "source": [
        "## For training data\n",
        "\n",
        "Mean:[0.507 0.486 0.441 ]\n",
        "\n",
        "STD: [0.256 0.246 0.265 ]\n",
        "\n",
        "<!-- ## For test data\n",
        "\n",
        "Mean:[0.5066172  0.48587695 0.44015914]\n",
        "\n",
        "STD: [0.26701313 0.2561134  0.275536  ] -->\n",
        "\n",
        "Now we do the transformations and load in the data. I transform the training set with RandomCrop with padding (mode is reflect), and randomHorizontalFlip. We also normalize with the mean and std above\n"
      ]
    },
    {
      "cell_type": "code",
      "metadata": {
        "colab": {
          "base_uri": "https://localhost:8080/"
        },
        "id": "_qeB7ibkxZvF",
        "outputId": "fc66741f-d285-444f-8fb9-cead607fdee1"
      },
      "source": [
        "#Transform for training\n",
        "transform1 = T.Compose(\n",
        "    [\n",
        "    T.RandomCrop(32, padding=4,padding_mode='reflect'),\n",
        "    T.RandomHorizontalFlip(),\n",
        "    T.ToTensor(),\n",
        "    T.Normalize((0.507, 0.486, 0.441), (0.256, 0.246, 0.265))]\n",
        "    )\n",
        "\n",
        "#Transform for testing\n",
        "transform2 = T.Compose(\n",
        "    [\n",
        "    T.ToTensor(),\n",
        "    T.Normalize((0.507, 0.486, 0.441), (0.256, 0.246, 0.265))]\n",
        "    )\n",
        "\n",
        "trainset = torchvision.datasets.CIFAR100(root='./data', train = True,\n",
        "                                         download = True, transform = transform1)\n",
        "\n",
        "\n",
        "testset = torchvision.datasets.CIFAR100(root='./data', train = False,\n",
        "                                         download = True, transform = transform2)\n",
        "\n",
        "# Batch size for the loaders                                         \n",
        "num_batches = 200"
      ],
      "execution_count": 28,
      "outputs": [
        {
          "output_type": "stream",
          "name": "stdout",
          "text": [
            "Files already downloaded and verified\n",
            "Files already downloaded and verified\n"
          ]
        }
      ]
    },
    {
      "cell_type": "markdown",
      "metadata": {
        "id": "1_Ib_FFtyQwT"
      },
      "source": [
        "## Split the validation and training set equally among classes\n",
        "\n",
        "\n",
        "This section shows how to use test_train_split from scikit learn to get the indices of each class in the sets, randomly scramble them with SubsetRandomSampler, and then load them in using the sample condition to get your validation set and testing set\n",
        "\n",
        "The validation set has 100 images of each class, as does the test set. The training set has 400 images of each class"
      ]
    },
    {
      "cell_type": "code",
      "metadata": {
        "id": "HViHeKpDYdyu"
      },
      "source": [
        "# Sets the device to cuda if available\n",
        "device = get_device()\n",
        "\n",
        "# print((trainset.classes))\n",
        "# This gives the indices of the training set\n",
        "trainset_indices = [i for i in range(len(trainset))]\n",
        "# With this we can get a split of the indices of trainset to be compelety evenly split between the classes\n",
        "train_indices, val_indices, train_tar, val_tar = train_test_split(trainset_indices, trainset.targets, test_size = 0.2, stratify = trainset.targets, random_state=78)\n",
        "# this splits the subsets randomly for training samples\n",
        "train_sampler = SubsetRandomSampler(train_indices)\n",
        "# this splits the subsets randomly for validation samples\n",
        "val_sampler = SubsetRandomSampler(val_indices)\n",
        "#load them using dataloader, and use sampler with the indicies to know which ones have the correct split\n",
        "trainloader = DataLoader(trainset, num_workers=2,pin_memory=True, shuffle=False, batch_size=num_batches, sampler=train_sampler)\n",
        "validloader = DataLoader(trainset, num_workers=2,pin_memory=True, shuffle=False, batch_size=num_batches, sampler=val_sampler)\n",
        "testloader = DataLoader(testset, batch_size=num_batches, num_workers=2,pin_memory=True, shuffle=False)\n",
        "\n",
        "# Moves the loaders to cuda from CPU\n",
        "trainloader = ToDeviceLoader(trainloader,device)\n",
        "validloader = ToDeviceLoader(validloader,device)\n",
        "testloader = ToDeviceLoader(testloader,device)"
      ],
      "execution_count": 29,
      "outputs": []
    },
    {
      "cell_type": "markdown",
      "metadata": {
        "id": "p7G9PGgUu1RG"
      },
      "source": [
        "## Model (CNN)\n",
        "\n",
        "This model uses 5 convolutional layers and 3 fully connected layers\n",
        "\n",
        "It uses maxpooling on two of the layers (1 and 5) with 2x2 pooling to half the size of the image. \n",
        "\n",
        "The number of channels was tested with different values, but I found that the model ran quite fast and got good results when I doubled the size of the number of channels each convulution\n",
        "\n",
        "Dropout is used on the first two fully connected layers with p = 0.5, as I found that I got better results with p = 0.5 compared to 0.25 or 0, as they make the model overfit. \n",
        "\n"
      ]
    },
    {
      "cell_type": "code",
      "metadata": {
        "id": "UfKH1wdZyYtp"
      },
      "source": [
        "class CNN(nn.Module):\n",
        "    def __init__(self):\n",
        "        super(CNN, self).__init__()\n",
        "        self.pool1 = nn.MaxPool2d(2,2)\n",
        "        #    Image size is 32 x 32     \n",
        "        self.conv1 = convolutions(3,16,5)\n",
        "        #    Image size is 14 x 14 \n",
        "        self.conv2 = convolutions(16,32,3, pad = 1)\n",
        "        #    Image size is 14 x 14\n",
        "        self.conv3 = convolutions(32,64,3)\n",
        "        #    Image size is 12 x 12\n",
        "        self.conv4 = convolutions(64,128,3, pad = 1)\n",
        "        #    Image size is 12 x 12\n",
        "        self.conv5 = convolutions(128,256,3)\n",
        "        #    Image size is 5 x 5        \n",
        "        self.fc1 = nn.Linear(256*5*5, 1500)\n",
        "        self.fc2 = nn.Linear(1500, 1000)\n",
        "        self.fc3 = nn.Linear(1000,100)\n",
        "        self.dropout = nn.Dropout(p=0.5)\n",
        "\n",
        "    def forward(self, x):\n",
        "        #    Image size is 32 x 32\n",
        "        x = self.pool1(F.relu(self.conv1(x)))\n",
        "        #    Image size is 14 x 14\n",
        "        x = F.relu(self.conv2(x))\n",
        "        #    Image size is 14 x 14\n",
        "        x = F.relu(self.conv3(x))\n",
        "        #    Image size is 12 x 12\n",
        "        x = F.relu(self.conv4(x))\n",
        "        #    Image size is 12 x 12\n",
        "        x = self.pool1(F.relu(self.conv5(x)))\n",
        "        #    Image size is 5 x 5\n",
        "\n",
        "        # Flattem makes everything into a single long array\n",
        "        x = torch.flatten(x, 1)\n",
        "        # Relu used on a fully connected layer fc1\n",
        "        x = F.relu(self.fc1(x))\n",
        "        # dropout with p = 0.5\n",
        "        x = self.dropout(x)\n",
        "        # Relu used on a fully connected layer fc2\n",
        "        x = F.relu(self.fc2(x))\n",
        "        # dropout with p = 0.5\n",
        "        x = self.dropout(x)\n",
        "        # fully connected layer fc3\n",
        "        x = self.fc3(x)\n",
        "        return x\n",
        "\n",
        "net = CNN()\n",
        "net = to_device(net,device) "
      ],
      "execution_count": 31,
      "outputs": []
    },
    {
      "cell_type": "code",
      "metadata": {
        "id": "C7p45XPizp76"
      },
      "source": [
        "# total number of epochs\n",
        "epochs = 75\n",
        "\n",
        "# Criterion is the loss function we use for our neural net\n",
        "# Cross Entropy Loss is good because it can act like softmax, where the bigger value is a more likely choice to be played\n",
        "criterion = nn.CrossEntropyLoss()\n",
        "# The optimizer is used \n",
        "optimizer = optim.SGD(net.parameters(), lr = 0.01, momentum = 0.9)\n",
        "# The scheduler decides the learning rate for each batch, so it can change throught the training process\n",
        "scheduler = optim.lr_scheduler.OneCycleLR(optimizer, max_lr = 0.01, epochs = epochs, steps_per_epoch=len(trainloader))\n"
      ],
      "execution_count": 32,
      "outputs": []
    },
    {
      "cell_type": "markdown",
      "metadata": {
        "id": "N7EpChKNzIWg"
      },
      "source": [
        "Train the model using training! "
      ]
    },
    {
      "cell_type": "code",
      "metadata": {
        "colab": {
          "base_uri": "https://localhost:8080/"
        },
        "id": "3RbdPJEDzuZ6",
        "outputId": "8daa24ab-0714-446e-ffac-acf2cba8cf8d"
      },
      "source": [
        "net, train_losses, val_losses, val_accuracy = training(epochs, optimizer, scheduler, criterion, trainloader, validloader, net)"
      ],
      "execution_count": 33,
      "outputs": [
        {
          "output_type": "stream",
          "name": "stdout",
          "text": [
            "[0] Training loss: 4.585\n",
            "[0] Validation loss: 4.499\n",
            "[0] Accuracy of validation set: 3.0%\n",
            "[1] Training loss: 4.453\n",
            "[1] Validation loss: 4.318\n",
            "[1] Accuracy of validation set: 6.2%\n",
            "[2] Training loss: 4.255\n",
            "[2] Validation loss: 4.053\n",
            "[2] Accuracy of validation set: 9.0%\n",
            "[3] Training loss: 4.038\n",
            "[3] Validation loss: 3.827\n",
            "[3] Accuracy of validation set: 11.8%\n",
            "[4] Training loss: 3.839\n",
            "[4] Validation loss: 3.653\n",
            "[4] Accuracy of validation set: 13.9%\n",
            "[5] Training loss: 3.666\n",
            "[5] Validation loss: 3.551\n",
            "[5] Accuracy of validation set: 15.1%\n",
            "[6] Training loss: 3.509\n",
            "[6] Validation loss: 3.300\n",
            "[6] Accuracy of validation set: 19.3%\n",
            "[7] Training loss: 3.351\n",
            "[7] Validation loss: 3.230\n",
            "[7] Accuracy of validation set: 20.8%\n",
            "[8] Training loss: 3.216\n",
            "[8] Validation loss: 3.150\n",
            "[8] Accuracy of validation set: 21.8%\n",
            "[9] Training loss: 3.100\n",
            "[9] Validation loss: 2.928\n",
            "[9] Accuracy of validation set: 26.4%\n",
            "[10] Training loss: 2.961\n",
            "[10] Validation loss: 2.956\n",
            "[10] Accuracy of validation set: 26.0%\n",
            "[11] Training loss: 2.857\n",
            "[11] Validation loss: 2.762\n",
            "[11] Accuracy of validation set: 30.0%\n",
            "[12] Training loss: 2.762\n",
            "[12] Validation loss: 2.630\n",
            "[12] Accuracy of validation set: 32.2%\n",
            "[13] Training loss: 2.683\n",
            "[13] Validation loss: 2.734\n",
            "[13] Accuracy of validation set: 30.6%\n",
            "[14] Training loss: 2.611\n",
            "[14] Validation loss: 2.551\n",
            "[14] Accuracy of validation set: 34.0%\n",
            "[15] Training loss: 2.539\n",
            "[15] Validation loss: 2.507\n",
            "[15] Accuracy of validation set: 34.4%\n",
            "[16] Training loss: 2.480\n",
            "[16] Validation loss: 2.409\n",
            "[16] Accuracy of validation set: 37.2%\n",
            "[17] Training loss: 2.421\n",
            "[17] Validation loss: 2.341\n",
            "[17] Accuracy of validation set: 38.2%\n",
            "[18] Training loss: 2.380\n",
            "[18] Validation loss: 2.324\n",
            "[18] Accuracy of validation set: 39.7%\n",
            "[19] Training loss: 2.329\n",
            "[19] Validation loss: 2.295\n",
            "[19] Accuracy of validation set: 39.7%\n",
            "[20] Training loss: 2.266\n",
            "[20] Validation loss: 2.261\n",
            "[20] Accuracy of validation set: 40.5%\n",
            "[21] Training loss: 2.215\n",
            "[21] Validation loss: 2.181\n",
            "[21] Accuracy of validation set: 41.8%\n",
            "[22] Training loss: 2.187\n",
            "[22] Validation loss: 2.210\n",
            "[22] Accuracy of validation set: 41.4%\n",
            "[23] Training loss: 2.149\n",
            "[23] Validation loss: 2.147\n",
            "[23] Accuracy of validation set: 43.5%\n",
            "[24] Training loss: 2.107\n",
            "[24] Validation loss: 2.126\n",
            "[24] Accuracy of validation set: 43.6%\n",
            "[25] Training loss: 2.071\n",
            "[25] Validation loss: 2.091\n",
            "[25] Accuracy of validation set: 43.9%\n",
            "[26] Training loss: 2.033\n",
            "[26] Validation loss: 2.053\n",
            "[26] Accuracy of validation set: 44.6%\n",
            "[27] Training loss: 2.004\n",
            "[27] Validation loss: 2.071\n",
            "[27] Accuracy of validation set: 44.9%\n",
            "[28] Training loss: 1.976\n",
            "[28] Validation loss: 2.017\n",
            "[28] Accuracy of validation set: 45.8%\n",
            "[29] Training loss: 1.935\n",
            "[29] Validation loss: 1.949\n",
            "[29] Accuracy of validation set: 47.8%\n",
            "[30] Training loss: 1.908\n",
            "[30] Validation loss: 1.962\n",
            "[30] Accuracy of validation set: 46.8%\n",
            "[31] Training loss: 1.887\n",
            "[31] Validation loss: 1.931\n",
            "[31] Accuracy of validation set: 48.0%\n",
            "[32] Training loss: 1.854\n",
            "[32] Validation loss: 1.989\n",
            "[32] Accuracy of validation set: 47.3%\n",
            "[33] Training loss: 1.825\n",
            "[33] Validation loss: 1.924\n",
            "[33] Accuracy of validation set: 48.5%\n",
            "[34] Training loss: 1.804\n",
            "[34] Validation loss: 1.949\n",
            "[34] Accuracy of validation set: 48.5%\n",
            "[35] Training loss: 1.771\n",
            "[35] Validation loss: 1.881\n",
            "[35] Accuracy of validation set: 49.4%\n",
            "[36] Training loss: 1.751\n",
            "[36] Validation loss: 1.847\n",
            "[36] Accuracy of validation set: 50.5%\n",
            "[37] Training loss: 1.732\n",
            "[37] Validation loss: 1.857\n",
            "[37] Accuracy of validation set: 50.0%\n",
            "[38] Training loss: 1.705\n",
            "[38] Validation loss: 1.819\n",
            "[38] Accuracy of validation set: 50.9%\n",
            "[39] Training loss: 1.684\n",
            "[39] Validation loss: 1.835\n",
            "[39] Accuracy of validation set: 50.3%\n",
            "[40] Training loss: 1.655\n",
            "[40] Validation loss: 1.839\n",
            "[40] Accuracy of validation set: 50.8%\n",
            "[41] Training loss: 1.633\n",
            "[41] Validation loss: 1.778\n",
            "[41] Accuracy of validation set: 52.0%\n",
            "[42] Training loss: 1.606\n",
            "[42] Validation loss: 1.760\n",
            "[42] Accuracy of validation set: 52.0%\n",
            "[43] Training loss: 1.596\n",
            "[43] Validation loss: 1.775\n",
            "[43] Accuracy of validation set: 51.5%\n",
            "[44] Training loss: 1.577\n",
            "[44] Validation loss: 1.759\n",
            "[44] Accuracy of validation set: 52.6%\n",
            "[45] Training loss: 1.550\n",
            "[45] Validation loss: 1.759\n",
            "[45] Accuracy of validation set: 52.2%\n",
            "[46] Training loss: 1.534\n",
            "[46] Validation loss: 1.740\n",
            "[46] Accuracy of validation set: 52.6%\n",
            "[47] Training loss: 1.505\n",
            "[47] Validation loss: 1.685\n",
            "[47] Accuracy of validation set: 54.7%\n",
            "[48] Training loss: 1.492\n",
            "[48] Validation loss: 1.718\n",
            "[48] Accuracy of validation set: 53.5%\n",
            "[49] Training loss: 1.470\n",
            "[49] Validation loss: 1.685\n",
            "[49] Accuracy of validation set: 54.0%\n",
            "[50] Training loss: 1.458\n",
            "[50] Validation loss: 1.709\n",
            "[50] Accuracy of validation set: 53.4%\n",
            "[51] Training loss: 1.439\n",
            "[51] Validation loss: 1.688\n",
            "[51] Accuracy of validation set: 53.9%\n",
            "[52] Training loss: 1.423\n",
            "[52] Validation loss: 1.662\n",
            "[52] Accuracy of validation set: 54.7%\n",
            "[53] Training loss: 1.395\n",
            "[53] Validation loss: 1.642\n",
            "[53] Accuracy of validation set: 55.0%\n",
            "[54] Training loss: 1.378\n",
            "[54] Validation loss: 1.665\n",
            "[54] Accuracy of validation set: 54.3%\n",
            "[55] Training loss: 1.358\n",
            "[55] Validation loss: 1.630\n",
            "[55] Accuracy of validation set: 55.7%\n",
            "[56] Training loss: 1.348\n",
            "[56] Validation loss: 1.632\n",
            "[56] Accuracy of validation set: 55.9%\n",
            "[57] Training loss: 1.320\n",
            "[57] Validation loss: 1.634\n",
            "[57] Accuracy of validation set: 55.6%\n",
            "[58] Training loss: 1.306\n",
            "[58] Validation loss: 1.591\n",
            "[58] Accuracy of validation set: 56.5%\n",
            "[59] Training loss: 1.292\n",
            "[59] Validation loss: 1.622\n",
            "[59] Accuracy of validation set: 55.8%\n",
            "[60] Training loss: 1.271\n",
            "[60] Validation loss: 1.598\n",
            "[60] Accuracy of validation set: 56.6%\n",
            "[61] Training loss: 1.257\n",
            "[61] Validation loss: 1.597\n",
            "[61] Accuracy of validation set: 56.5%\n",
            "[62] Training loss: 1.235\n",
            "[62] Validation loss: 1.587\n",
            "[62] Accuracy of validation set: 56.6%\n",
            "[63] Training loss: 1.214\n",
            "[63] Validation loss: 1.588\n",
            "[63] Accuracy of validation set: 56.8%\n",
            "[64] Training loss: 1.202\n",
            "[64] Validation loss: 1.557\n",
            "[64] Accuracy of validation set: 57.4%\n",
            "[65] Training loss: 1.190\n",
            "[65] Validation loss: 1.556\n",
            "[65] Accuracy of validation set: 57.3%\n",
            "[66] Training loss: 1.173\n",
            "[66] Validation loss: 1.562\n",
            "[66] Accuracy of validation set: 57.7%\n",
            "[67] Training loss: 1.158\n",
            "[67] Validation loss: 1.545\n",
            "[67] Accuracy of validation set: 58.0%\n",
            "[68] Training loss: 1.137\n",
            "[68] Validation loss: 1.538\n",
            "[68] Accuracy of validation set: 58.1%\n",
            "[69] Training loss: 1.143\n",
            "[69] Validation loss: 1.545\n",
            "[69] Accuracy of validation set: 58.0%\n",
            "[70] Training loss: 1.131\n",
            "[70] Validation loss: 1.549\n",
            "[70] Accuracy of validation set: 58.0%\n",
            "[71] Training loss: 1.117\n",
            "[71] Validation loss: 1.528\n",
            "[71] Accuracy of validation set: 58.1%\n",
            "[72] Training loss: 1.112\n",
            "[72] Validation loss: 1.538\n",
            "[72] Accuracy of validation set: 58.4%\n",
            "[73] Training loss: 1.114\n",
            "[73] Validation loss: 1.544\n",
            "[73] Accuracy of validation set: 57.7%\n",
            "[74] Training loss: 1.114\n",
            "[74] Validation loss: 1.535\n",
            "[74] Accuracy of validation set: 58.5%\n",
            "Finished Training\n"
          ]
        }
      ]
    },
    {
      "cell_type": "markdown",
      "metadata": {
        "id": "TXNS7MrDzMRZ"
      },
      "source": [
        "This part here checks the top 1 and top 5 accuracy for the model on the testset "
      ]
    },
    {
      "cell_type": "code",
      "metadata": {
        "colab": {
          "base_uri": "https://localhost:8080/"
        },
        "id": "VqGKWEaXTSjL",
        "outputId": "24009bdc-5b7e-4439-fd3d-491940b3e777"
      },
      "source": [
        "accuracy(net, testloader, k = 1)\n",
        "accuracy(net, testloader, k = 5)\n",
        "\n",
        "# accuracy(net, trainloader, k = 1)\n",
        "# accuracy(net, trainloader, k = 5)\n"
      ],
      "execution_count": 34,
      "outputs": [
        {
          "output_type": "stream",
          "name": "stdout",
          "text": [
            "Top 1 accuracy: 60.9%\n",
            "Top 5 accuracy: 86.8%\n"
          ]
        }
      ]
    },
    {
      "cell_type": "markdown",
      "metadata": {
        "id": "ZYQ0-jOQzSwg"
      },
      "source": [
        "Here we plot the loss of the training and validation each epoch"
      ]
    },
    {
      "cell_type": "code",
      "metadata": {
        "colab": {
          "base_uri": "https://localhost:8080/",
          "height": 295
        },
        "id": "ZKpVW5xgYqKS",
        "outputId": "4cba00ec-757d-4851-ba91-644fedbb7402"
      },
      "source": [
        "plot_losses(val_losses, train_losses, epochs)"
      ],
      "execution_count": 35,
      "outputs": [
        {
          "output_type": "display_data",
          "data": {
            "image/png": "[encoded data removed]",
            "text/plain": [
              "<Figure size 432x288 with 1 Axes>"
            ]
          },
          "metadata": {
            "needs_background": "light"
          }
        }
      ]
    },
    {
      "cell_type": "markdown",
      "metadata": {
        "id": "tSXrU7RDzfdL"
      },
      "source": [
        "And here we plot the accuracy of the validation set each epoch"
      ]
    },
    {
      "cell_type": "code",
      "metadata": {
        "colab": {
          "base_uri": "https://localhost:8080/",
          "height": 295
        },
        "id": "wtScJ7DKWIyQ",
        "outputId": "28c1953b-20dd-4a6c-8b4e-f7cdbccdba18"
      },
      "source": [
        "plot_accuracy(val_accuracy, epochs)"
      ],
      "execution_count": 36,
      "outputs": [
        {
          "output_type": "display_data",
          "data": {
            "image/png": "[encoded data removed]",
            "text/plain": [
              "<Figure size 432x288 with 1 Axes>"
            ]
          },
          "metadata": {
            "needs_background": "light"
          }
        }
      ]
    },
    {
      "cell_type": "markdown",
      "metadata": {
        "id": "VMvMJWBqVNG5"
      },
      "source": [
        "This code under here is used for finding the best learning rate, best scheduler, best number of batches, and more. It was edited each time I needed to see which test to run. The one it is currently looking at is learning_rates, and the code underneath is for visualizing all of the different results put together. "
      ]
    },
    {
      "cell_type": "code",
      "metadata": {
        "colab": {
          "base_uri": "https://localhost:8080/"
        },
        "id": "81m8f2RuvZmq",
        "outputId": "40960da4-db78-421e-819c-3b2f2798b84e"
      },
      "source": [
        "# number of epochs\n",
        "epochs = 30\n",
        "\n",
        "criterion = nn.CrossEntropyLoss()\n",
        "optimizer = optim.SGD(net.parameters(), lr = 0.1, momentum = 0.9)\n",
        "\n",
        "scheduler = optim.lr_scheduler.OneCycleLR(optimizer, max_lr = 0.01, epochs = epochs, steps_per_epoch=len(trainloader))\n",
        "\n",
        "# Different learning rates tried\n",
        "# learning_rates = [0.001, 0.01, 0.05, 0.1]\n",
        "learning_rates = [0.001, 0.01, 0.05]\n",
        "\n",
        "# Stores all of the different types of losses of each net in each round\n",
        "train_losses = np.zeros([len(learning_rates),epochs])\n",
        "val_losses = np.zeros([len(learning_rates),epochs])\n",
        "val_acc = np.zeros([len(learning_rates),epochs])\n",
        "nets = []\n",
        "\n",
        "for i in range(len(learning_rates)):\n",
        "  testnet = CNN()\n",
        "  testnet = to_device(testnet,device)\n",
        "\n",
        "  optimizer = optim.SGD(testnet.parameters(), lr = learning_rates[i], momentum = 0.9)\n",
        "  scheduler = optim.lr_scheduler.OneCycleLR(optimizer, max_lr = learning_rates[i], epochs = epochs, steps_per_epoch=len(trainloader))\n",
        "  n, train_losses[i], val_losses[i], val_acc[i] = training(epochs, optimizer, scheduler, criterion, trainloader, validloader, testnet)\n",
        "  nets.append(n)\n",
        " \n"
      ],
      "execution_count": 14,
      "outputs": [
        {
          "output_type": "stream",
          "name": "stdout",
          "text": [
            "[0] Training loss: 4.618\n",
            "[0] Validation loss: 4.586\n",
            "[0] Accuracy of validation set: 1.8%\n",
            "[1] Training loss: 4.566\n",
            "[1] Validation loss: 4.493\n",
            "[1] Accuracy of validation set: 3.5%\n",
            "[2] Training loss: 4.476\n",
            "[2] Validation loss: 4.389\n",
            "[2] Accuracy of validation set: 6.0%\n",
            "[3] Training loss: 4.370\n",
            "[3] Validation loss: 4.231\n",
            "[3] Accuracy of validation set: 6.3%\n",
            "[4] Training loss: 4.237\n",
            "[4] Validation loss: 4.090\n",
            "[4] Accuracy of validation set: 9.0%\n",
            "[5] Training loss: 4.123\n",
            "[5] Validation loss: 3.976\n",
            "[5] Accuracy of validation set: 10.4%\n",
            "[6] Training loss: 4.038\n",
            "[6] Validation loss: 3.881\n",
            "[6] Accuracy of validation set: 11.5%\n",
            "[7] Training loss: 3.960\n",
            "[7] Validation loss: 3.821\n",
            "[7] Accuracy of validation set: 12.9%\n",
            "[8] Training loss: 3.918\n",
            "[8] Validation loss: 3.786\n",
            "[8] Accuracy of validation set: 13.0%\n",
            "[9] Training loss: 3.897\n",
            "[9] Validation loss: 3.788\n",
            "[9] Accuracy of validation set: 13.0%\n",
            "Finished Training\n",
            "[0] Training loss: 4.551\n",
            "[0] Validation loss: 4.346\n",
            "[0] Accuracy of validation set: 4.2%\n",
            "[1] Training loss: 4.118\n",
            "[1] Validation loss: 3.822\n",
            "[1] Accuracy of validation set: 11.5%\n",
            "[2] Training loss: 3.731\n",
            "[2] Validation loss: 3.541\n",
            "[2] Accuracy of validation set: 14.8%\n",
            "[3] Training loss: 3.450\n",
            "[3] Validation loss: 3.209\n",
            "[3] Accuracy of validation set: 21.1%\n",
            "[4] Training loss: 3.229\n",
            "[4] Validation loss: 3.092\n",
            "[4] Accuracy of validation set: 23.2%\n",
            "[5] Training loss: 3.061\n",
            "[5] Validation loss: 2.911\n",
            "[5] Accuracy of validation set: 26.4%\n",
            "[6] Training loss: 2.917\n",
            "[6] Validation loss: 2.785\n",
            "[6] Accuracy of validation set: 29.4%\n",
            "[7] Training loss: 2.803\n",
            "[7] Validation loss: 2.672\n",
            "[7] Accuracy of validation set: 31.4%\n",
            "[8] Training loss: 2.679\n",
            "[8] Validation loss: 2.552\n",
            "[8] Accuracy of validation set: 34.0%\n",
            "[9] Training loss: 2.605\n",
            "[9] Validation loss: 2.516\n",
            "[9] Accuracy of validation set: 34.4%\n",
            "Finished Training\n",
            "[0] Training loss: 4.333\n",
            "[0] Validation loss: 3.940\n",
            "[0] Accuracy of validation set: 8.7%\n",
            "[1] Training loss: 3.826\n",
            "[1] Validation loss: 3.591\n",
            "[1] Accuracy of validation set: 13.8%\n",
            "[2] Training loss: 3.570\n",
            "[2] Validation loss: 3.471\n",
            "[2] Accuracy of validation set: 16.2%\n",
            "[3] Training loss: 3.384\n",
            "[3] Validation loss: 3.137\n",
            "[3] Accuracy of validation set: 21.8%\n",
            "[4] Training loss: 3.201\n",
            "[4] Validation loss: 3.181\n",
            "[4] Accuracy of validation set: 22.0%\n",
            "[5] Training loss: 3.041\n",
            "[5] Validation loss: 2.853\n",
            "[5] Accuracy of validation set: 27.6%\n",
            "[6] Training loss: 2.867\n",
            "[6] Validation loss: 2.718\n",
            "[6] Accuracy of validation set: 31.3%\n",
            "[7] Training loss: 2.706\n",
            "[7] Validation loss: 2.519\n",
            "[7] Accuracy of validation set: 35.0%\n",
            "[8] Training loss: 2.547\n",
            "[8] Validation loss: 2.386\n",
            "[8] Accuracy of validation set: 38.0%\n",
            "[9] Training loss: 2.433\n",
            "[9] Validation loss: 2.340\n",
            "[9] Accuracy of validation set: 39.0%\n",
            "Finished Training\n"
          ]
        }
      ]
    },
    {
      "cell_type": "markdown",
      "metadata": {
        "id": "cQPkECn-VowF"
      },
      "source": [
        "This next block prints the top1 and top5 accuracy of each net trained above"
      ]
    },
    {
      "cell_type": "code",
      "metadata": {
        "colab": {
          "base_uri": "https://localhost:8080/"
        },
        "id": "e2idGMmO0h71",
        "outputId": "6a94978c-a42d-42b7-edde-89bea7b10252"
      },
      "source": [
        "for net in nets:\n",
        "  accuracy(net, testloader, k = 1)\n",
        "  accuracy(net, testloader, k = 5)"
      ],
      "execution_count": 15,
      "outputs": [
        {
          "output_type": "stream",
          "name": "stdout",
          "text": [
            "Top 1 accuracy: 14.2%\n",
            "Top 5 accuracy: 36.7%\n",
            "Top 1 accuracy: 37.8%\n",
            "Top 5 accuracy: 69.5%\n",
            "Top 1 accuracy: 42.2%\n",
            "Top 5 accuracy: 74.2%\n"
          ]
        }
      ]
    },
    {
      "cell_type": "markdown",
      "metadata": {
        "id": "xHBTVruGVt7_"
      },
      "source": [
        "This plots all of the training and validation loss of each trained CNN onto one graph for easy visualization. It was left on batches, as that was the last one it was used on. "
      ]
    },
    {
      "cell_type": "code",
      "metadata": {
        "colab": {
          "base_uri": "https://localhost:8080/",
          "height": 313
        },
        "id": "66YSI7qAy1Tx",
        "outputId": "b02c2842-9cf3-46fd-cd3b-a50aef1f039a"
      },
      "source": [
        "colours = ['g', 'r', 'b', 'c']\n",
        "for i in range(len(learning_rates)):\n",
        "  plt.plot(val_losses[i], '{}--'.format(colours[i]), label = learning_rates[i])\n",
        "  plt.plot(train_losses[i], '{}-'.format(colours[i]), label = learning_rates[i])\n",
        "plt.xlabel(\"epochs\")\n",
        "plt.ylabel(\"loss\")\n",
        "plt.legend(title = \"Learning Rates\")\n",
        "plt.title(\"Different Learning Rates Loss\")"
      ],
      "execution_count": 16,
      "outputs": [
        {
          "output_type": "execute_result",
          "data": {
            "text/plain": [
              "Text(0.5, 1.0, 'Different Learning Rates Loss')"
            ]
          },
          "metadata": {},
          "execution_count": 16
        },
        {
          "output_type": "display_data",
          "data": {
            "image/png": "[encoded data removed]",
            "text/plain": [
              "<Figure size 432x288 with 1 Axes>"
            ]
          },
          "metadata": {
            "needs_background": "light"
          }
        }
      ]
    },
    {
      "cell_type": "markdown",
      "metadata": {
        "id": "r5usRzbaEZPV"
      },
      "source": [
        "# Visualization (Bonus)\n",
        "\n",
        "This code is needed for creating new images based on each class. This is done by using stochastic gradient ascent, where you start with a bunch of randomly assigned pixel values and then train with your model to make that look like a specific class. \n",
        "\n",
        "## Functions\n",
        "\n",
        "These are the functions needed to generate the images. The original code can be found here: https://github.com/utkuozbulak/pytorch-cnn-visualizations, but here it has been altered and changed to work on smaller images, and updated to new not use depreciated methods and objects (Mostly variables, and a couple other things.)\n",
        "\n",
        "### format_np_output(np_arr) \n",
        "\n",
        "This takes in a numpy array, and then converts it to have the same output which is 3 x W x H, or for CIFAR100, 3 x 32 x 32\n",
        "\n",
        "### save_image(im,path)\n",
        "\n",
        "This saves the image im to a path which specifies the name and what folder it will be saved in. \n",
        "\n",
        "### preprocess_image(pil_im, resize_im = True)\n",
        "\n",
        "preprocess images takes in an image in the form of PIL (Pythong Imaging Library), and outputs the images as a tensor, and with the corrections needed to the mean and std so that it will be a value withing the range of [-1,1]. \n",
        "\n",
        "### recreate_image(im_as_ten)\n",
        "\n",
        "Takes a tensor of an image, and then puts in back into its original form so it can be saved as an image and repassed in as the new image for the stochasitic gradient ascent\n",
        "\n",
        "## Class: ClassSpecificImageGeneration\n",
        "\n",
        "This class is used to generate a new image for a specific class listed when you create the object. It has one method, generate(), which actually generates the image. \n",
        "\n",
        "### generate()\n"
      ]
    },
    {
      "cell_type": "code",
      "metadata": {
        "id": "u4zKbQgsojJ-"
      },
      "source": [
        "def format_np_output(np_arr):\n",
        "    \"\"\"\n",
        "        This is a (kind of) bandaid fix to streamline saving procedure.\n",
        "        It converts all the outputs to the same format which is 3xWxH\n",
        "        with using sucecssive if clauses.\n",
        "    Args:\n",
        "        im_as_arr (Numpy array): Matrix of shape 1xWxH or WxH or 3xWxH\n",
        "    \"\"\"\n",
        "    # Phase/Case 1: The np arr only has 2 dimensions\n",
        "    # Result: Add a dimension at the beginning\n",
        "    if len(np_arr.shape) == 2:\n",
        "        np_arr = np.expand_dims(np_arr, axis=0)\n",
        "    # Phase/Case 2: Np arr has only 1 channel (assuming first dim is channel)\n",
        "    # Result: Repeat first channel and convert 1xWxH to 3xWxH\n",
        "    if np_arr.shape[0] == 1:\n",
        "        np_arr = np.repeat(np_arr, 3, axis=0)\n",
        "    # Phase/Case 3: Np arr is of shape 3xWxH\n",
        "    # Result: Convert it to WxHx3 in order to make it saveable by PIL\n",
        "    if np_arr.shape[0] == 3:\n",
        "        np_arr = np_arr.transpose(1, 2, 0)\n",
        "    # Phase/Case 4: NP arr is normalized between 0-1\n",
        "    # Result: Multiply with 255 and change type to make it saveable by PIL\n",
        "    if np.max(np_arr) <= 1:\n",
        "        np_arr = (np_arr*255).astype(np.uint8)\n",
        "    return np_arr\n",
        "\n",
        "def save_image(im, path):\n",
        "    \"\"\"\n",
        "        Saves a numpy matrix or PIL image as an image\n",
        "    Args:\n",
        "        im_as_arr (Numpy array): Matrix of shape DxWxH\n",
        "        path (str): Path to the image\n",
        "    \"\"\"\n",
        "    if isinstance(im, (np.ndarray, np.generic)):\n",
        "        im = format_np_output(im)\n",
        "        im = Image.fromarray(im)\n",
        "    im.save(path)\n",
        "\n",
        "def preprocess_image(pil_im, resize_im=True):\n",
        "    \n",
        "    # mean and std list for channels \n",
        "    mean = [0.50695723, 0.48641145, 0.4407998 ]\n",
        "    std = [0.25612617, 0.24619192, 0.2645457 ]\n",
        "\n",
        "    #ensure or transform incoming image to PIL image\n",
        "    if type(pil_im) != Image.Image:\n",
        "        try:\n",
        "            pil_im = Image.fromarray(pil_im)\n",
        "        except Exception as e:\n",
        "            print(\"could not transform PIL_img to a PIL Image object. Please check input.\")\n",
        "\n",
        "    # Resize image\n",
        "    if resize_im:\n",
        "        pil_im = pil_im.resize((32, 32), Image.ANTIALIAS)\n",
        "\n",
        "    im_as_arr = np.float32(pil_im)\n",
        "    im_as_arr = im_as_arr.transpose(2, 0, 1)  # Convert array to D,W,H\n",
        "    # Normalize the channels\n",
        "    for channel, _ in enumerate(im_as_arr):\n",
        "        im_as_arr[channel] /= 255\n",
        "        im_as_arr[channel] -= mean[channel]\n",
        "        im_as_arr[channel] /= std[channel]\n",
        "    # Convert to float tensor\n",
        "    im_as_arr = np.expand_dims(im_as_arr, axis=0)\n",
        "    im_as_ten = torch.tensor(im_as_arr, requires_grad=True, device=\"cuda\").float()\n",
        "    \n",
        "\n",
        "    im_as_ten = to_device(im_as_ten,device) \n",
        "    return im_as_ten\n",
        "\n",
        "def recreate_image(im_as_ten):\n",
        "    \"\"\"\n",
        "        Recreates images from a torch variable, sort of reverse preprocessing\n",
        "    Args:\n",
        "        im_as_ten (torch tensor): Image to recreate\n",
        "    returns:\n",
        "        recreated_im (numpy arr): Recreated image in array\n",
        "    \"\"\"\n",
        "    reverse_mean = [-0.50695723, -0.48641145, -0.4407998 ]\n",
        "    reverse_std = [1/0.25612617, 1/0.24619192, 1/0.2645457]\n",
        "    im_as_ten = im_as_ten.cpu()\n",
        "    recreated_im = copy.copy(im_as_ten.data.numpy()[0])\n",
        "    for c in range(3):\n",
        "        recreated_im[c] /= reverse_std[c]\n",
        "        recreated_im[c] -= reverse_mean[c]\n",
        "    recreated_im[recreated_im > 1] = 1\n",
        "    recreated_im[recreated_im < 0] = 0\n",
        "    recreated_im = np.round(recreated_im * 255)\n",
        "\n",
        "    recreated_im = np.uint8(recreated_im).transpose(1, 2, 0)\n",
        "    return recreated_im\n",
        "\n",
        "\n",
        "class ClassSpecificImageGeneration():\n",
        "    \"\"\"\n",
        "        Produces an image that maximizes a certain class with gradient ascent\n",
        "    \"\"\"\n",
        "    def __init__(self, model, target_class):\n",
        "        self.mean = [-0.50695723, -0.48641145, -0.4407998 ]\n",
        "        self.std = [1/0.25612617, 1/0.24619192, 1/0.2645457]\n",
        "        self.model = model\n",
        "        self.model = to_device(model,device) \n",
        "        self.model.eval()\n",
        "        self.target_class = target_class\n",
        "        # Generate a random image\n",
        "        self.created_image = np.uint8(np.random.uniform(0, 255, (32, 32, 3)))\n",
        "        # Create the folder to export images if not exists\n",
        "        if not os.path.exists('/content/generated/class_'+str(self.target_class)):\n",
        "            os.makedirs('/content/generated/class_'+str(self.target_class))\n",
        "\n",
        "    def generate(self, iterations=150):\n",
        "        \"\"\"Generates class specific image\n",
        "        Keyword Arguments:\n",
        "            iterations {int} -- Total iterations for gradient ascent (default: {150})\n",
        "        Returns:\n",
        "            np.ndarray -- Final maximally activated class image\n",
        "        \"\"\"\n",
        "        criterion = nn.CrossEntropyLoss()\n",
        "        learning_rates = [6, 0.6]\n",
        "        for i in range(1, iterations):\n",
        "            learning_rate = learning_rates[int(i/(iterations/len(learning_rates)))]\n",
        "            # Process image and return variable\n",
        "            self.processed_image = preprocess_image(self.created_image, False)\n",
        "            # Define optimizer for the image\n",
        "            optimizer = optim.SGD([self.processed_image], lr=learning_rate)\n",
        "           \n",
        "            # Forward\n",
        "            output = self.model(self.processed_image)\n",
        "            # Target specific class\n",
        "            class_loss = -output[0, self.target_class]\n",
        "            # class_loss = -1 * criterion(output, torch.uint8(self.target_class))\n",
        "\n",
        "            if i % (iterations/10) == 0 or i == iterations-1:\n",
        "                cl = class_loss.cpu()\n",
        "                print('Iteration:', str(i), 'Loss',\n",
        "                      \"{0:.2f}\".format(cl.data.numpy()))\n",
        "            # Zero grads\n",
        "            self.model.zero_grad()\n",
        "\n",
        "            # Backward\n",
        "            class_loss.backward()\n",
        "            # Update image\n",
        "            optimizer.step()\n",
        "            optimizer.zero_grad()\n",
        "\n",
        "            # Recreate image\n",
        "            self.created_image = recreate_image(self.processed_image)\n",
        "            if i == iterations-1:\n",
        "                # Save image\n",
        "                im_path = '/content/generated/class_'+str(self.target_class)+'/c_'+str(self.target_class)+'_'+'iter_'+str(i)+'.png'\n",
        "                save_image(self.created_image, im_path)\n",
        "\n",
        "        return self.processed_image\n"
      ],
      "execution_count": 37,
      "outputs": []
    },
    {
      "cell_type": "markdown",
      "metadata": {
        "id": "HfzmEAptUQ7c"
      },
      "source": [
        "Here we run our code to generate new images, and it outputs the loss by iteration, , what the image is supposed to be, and then feeds it back into the network, and shows it predicts the same class as the chosen one. \n",
        "\n",
        "This example here the target class is a worm, which is class 99"
      ]
    },
    {
      "cell_type": "code",
      "metadata": {
        "colab": {
          "base_uri": "https://localhost:8080/"
        },
        "id": "-aMfhgjpUaGD",
        "outputId": "4ec5bc80-73e5-428f-e721-d5a6f15bf48a"
      },
      "source": [
        "target_class = 99  # Worm\n",
        "print(trainset.classes[target_class]) # outputs class name\n",
        "csig = ClassSpecificImageGeneration(net, target_class) # Creates ClassSpecificImageGeneration object\n",
        "new_image = csig.generate(iterations = 300) # creates a new image based from generate and saves image to /content/generated\n",
        "\n",
        "output = net(new_image) # runs the newly generated image through the net again\n",
        "value, predicted = torch.max(output.data, 1) # predicts the class\n",
        "print(predicted) #prints the predicted class\n"
      ],
      "execution_count": 40,
      "outputs": [
        {
          "output_type": "stream",
          "name": "stdout",
          "text": [
            "worm\n",
            "Iteration: 30 Loss -80.99\n",
            "Iteration: 60 Loss -87.88\n",
            "Iteration: 90 Loss -89.27\n",
            "Iteration: 120 Loss -90.91\n",
            "Iteration: 150 Loss -88.14\n",
            "Iteration: 180 Loss -129.39\n",
            "Iteration: 210 Loss -131.89\n",
            "Iteration: 240 Loss -132.94\n",
            "Iteration: 270 Loss -133.72\n",
            "Iteration: 299 Loss -134.52\n",
            "tensor([99], device='cuda:0')\n"
          ]
        }
      ]
    }
  ]
}