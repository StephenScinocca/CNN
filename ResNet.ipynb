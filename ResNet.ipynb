{
  "nbformat": 4,
  "nbformat_minor": 0,
  "metadata": {
    "colab": {
      "name": "ResNet.ipynb",
      "provenance": [],
      "authorship_tag": "ABX9TyMupSc8TSUbb0Ccoq9CKYuy",
      "include_colab_link": true
    },
    "kernelspec": {
      "name": "python3",
      "display_name": "Python 3"
    },
    "language_info": {
      "name": "python"
    },
    "accelerator": "GPU",
    "widgets": {
      "application/vnd.jupyter.widget-state+json": {
        "99bd81a7f78e4f82b696df9c1d13cbe7": {
          "model_module": "@jupyter-widgets/controls",
          "model_name": "HBoxModel",
          "model_module_version": "1.5.0",
          "state": {
            "_view_name": "HBoxView",
            "_dom_classes": [],
            "_model_name": "HBoxModel",
            "_view_module": "@jupyter-widgets/controls",
            "_model_module_version": "1.5.0",
            "_view_count": null,
            "_view_module_version": "1.5.0",
            "box_style": "",
            "layout": "IPY_MODEL_0f3d7e66f03941a4bad3733af8b49cf5",
            "_model_module": "@jupyter-widgets/controls",
            "children": [
              "IPY_MODEL_ef75602b49184e7ea4baa5a8ecc3dbde",
              "IPY_MODEL_95d90512bca44bc2bfa58145856a920d",
              "IPY_MODEL_c607714ee6f0442e94dbdd7b90074f77"
            ]
          }
        },
        "0f3d7e66f03941a4bad3733af8b49cf5": {
          "model_module": "@jupyter-widgets/base",
          "model_name": "LayoutModel",
          "model_module_version": "1.2.0",
          "state": {
            "_view_name": "LayoutView",
            "grid_template_rows": null,
            "right": null,
            "justify_content": null,
            "_view_module": "@jupyter-widgets/base",
            "overflow": null,
            "_model_module_version": "1.2.0",
            "_view_count": null,
            "flex_flow": null,
            "width": null,
            "min_width": null,
            "border": null,
            "align_items": null,
            "bottom": null,
            "_model_module": "@jupyter-widgets/base",
            "top": null,
            "grid_column": null,
            "overflow_y": null,
            "overflow_x": null,
            "grid_auto_flow": null,
            "grid_area": null,
            "grid_template_columns": null,
            "flex": null,
            "_model_name": "LayoutModel",
            "justify_items": null,
            "grid_row": null,
            "max_height": null,
            "align_content": null,
            "visibility": null,
            "align_self": null,
            "height": null,
            "min_height": null,
            "padding": null,
            "grid_auto_rows": null,
            "grid_gap": null,
            "max_width": null,
            "order": null,
            "_view_module_version": "1.2.0",
            "grid_template_areas": null,
            "object_position": null,
            "object_fit": null,
            "grid_auto_columns": null,
            "margin": null,
            "display": null,
            "left": null
          }
        },
        "ef75602b49184e7ea4baa5a8ecc3dbde": {
          "model_module": "@jupyter-widgets/controls",
          "model_name": "HTMLModel",
          "model_module_version": "1.5.0",
          "state": {
            "_view_name": "HTMLView",
            "style": "IPY_MODEL_bfd04659c01f47dd9817314002c768bb",
            "_dom_classes": [],
            "description": "",
            "_model_name": "HTMLModel",
            "placeholder": "​",
            "_view_module": "@jupyter-widgets/controls",
            "_model_module_version": "1.5.0",
            "value": "",
            "_view_count": null,
            "_view_module_version": "1.5.0",
            "description_tooltip": null,
            "_model_module": "@jupyter-widgets/controls",
            "layout": "IPY_MODEL_01676c890edc4f1e8b95f6b0677ddefa"
          }
        },
        "95d90512bca44bc2bfa58145856a920d": {
          "model_module": "@jupyter-widgets/controls",
          "model_name": "FloatProgressModel",
          "model_module_version": "1.5.0",
          "state": {
            "_view_name": "ProgressView",
            "style": "IPY_MODEL_bd593faace3444bc8ef44d705f340ea0",
            "_dom_classes": [],
            "description": "",
            "_model_name": "FloatProgressModel",
            "bar_style": "success",
            "max": 169001437,
            "_view_module": "@jupyter-widgets/controls",
            "_model_module_version": "1.5.0",
            "value": 169001437,
            "_view_count": null,
            "_view_module_version": "1.5.0",
            "orientation": "horizontal",
            "min": 0,
            "description_tooltip": null,
            "_model_module": "@jupyter-widgets/controls",
            "layout": "IPY_MODEL_6b869ec01765429da85989a4d603fdae"
          }
        },
        "c607714ee6f0442e94dbdd7b90074f77": {
          "model_module": "@jupyter-widgets/controls",
          "model_name": "HTMLModel",
          "model_module_version": "1.5.0",
          "state": {
            "_view_name": "HTMLView",
            "style": "IPY_MODEL_c5ee70b2b2034fca867d41ef1a33addc",
            "_dom_classes": [],
            "description": "",
            "_model_name": "HTMLModel",
            "placeholder": "​",
            "_view_module": "@jupyter-widgets/controls",
            "_model_module_version": "1.5.0",
            "value": " 169001984/? [00:06&lt;00:00, 31096764.81it/s]",
            "_view_count": null,
            "_view_module_version": "1.5.0",
            "description_tooltip": null,
            "_model_module": "@jupyter-widgets/controls",
            "layout": "IPY_MODEL_acc4b1afa30445c49200390f9d32c174"
          }
        },
        "bfd04659c01f47dd9817314002c768bb": {
          "model_module": "@jupyter-widgets/controls",
          "model_name": "DescriptionStyleModel",
          "model_module_version": "1.5.0",
          "state": {
            "_view_name": "StyleView",
            "_model_name": "DescriptionStyleModel",
            "description_width": "",
            "_view_module": "@jupyter-widgets/base",
            "_model_module_version": "1.5.0",
            "_view_count": null,
            "_view_module_version": "1.2.0",
            "_model_module": "@jupyter-widgets/controls"
          }
        },
        "01676c890edc4f1e8b95f6b0677ddefa": {
          "model_module": "@jupyter-widgets/base",
          "model_name": "LayoutModel",
          "model_module_version": "1.2.0",
          "state": {
            "_view_name": "LayoutView",
            "grid_template_rows": null,
            "right": null,
            "justify_content": null,
            "_view_module": "@jupyter-widgets/base",
            "overflow": null,
            "_model_module_version": "1.2.0",
            "_view_count": null,
            "flex_flow": null,
            "width": null,
            "min_width": null,
            "border": null,
            "align_items": null,
            "bottom": null,
            "_model_module": "@jupyter-widgets/base",
            "top": null,
            "grid_column": null,
            "overflow_y": null,
            "overflow_x": null,
            "grid_auto_flow": null,
            "grid_area": null,
            "grid_template_columns": null,
            "flex": null,
            "_model_name": "LayoutModel",
            "justify_items": null,
            "grid_row": null,
            "max_height": null,
            "align_content": null,
            "visibility": null,
            "align_self": null,
            "height": null,
            "min_height": null,
            "padding": null,
            "grid_auto_rows": null,
            "grid_gap": null,
            "max_width": null,
            "order": null,
            "_view_module_version": "1.2.0",
            "grid_template_areas": null,
            "object_position": null,
            "object_fit": null,
            "grid_auto_columns": null,
            "margin": null,
            "display": null,
            "left": null
          }
        },
        "bd593faace3444bc8ef44d705f340ea0": {
          "model_module": "@jupyter-widgets/controls",
          "model_name": "ProgressStyleModel",
          "model_module_version": "1.5.0",
          "state": {
            "_view_name": "StyleView",
            "_model_name": "ProgressStyleModel",
            "description_width": "",
            "_view_module": "@jupyter-widgets/base",
            "_model_module_version": "1.5.0",
            "_view_count": null,
            "_view_module_version": "1.2.0",
            "bar_color": null,
            "_model_module": "@jupyter-widgets/controls"
          }
        },
        "6b869ec01765429da85989a4d603fdae": {
          "model_module": "@jupyter-widgets/base",
          "model_name": "LayoutModel",
          "model_module_version": "1.2.0",
          "state": {
            "_view_name": "LayoutView",
            "grid_template_rows": null,
            "right": null,
            "justify_content": null,
            "_view_module": "@jupyter-widgets/base",
            "overflow": null,
            "_model_module_version": "1.2.0",
            "_view_count": null,
            "flex_flow": null,
            "width": null,
            "min_width": null,
            "border": null,
            "align_items": null,
            "bottom": null,
            "_model_module": "@jupyter-widgets/base",
            "top": null,
            "grid_column": null,
            "overflow_y": null,
            "overflow_x": null,
            "grid_auto_flow": null,
            "grid_area": null,
            "grid_template_columns": null,
            "flex": null,
            "_model_name": "LayoutModel",
            "justify_items": null,
            "grid_row": null,
            "max_height": null,
            "align_content": null,
            "visibility": null,
            "align_self": null,
            "height": null,
            "min_height": null,
            "padding": null,
            "grid_auto_rows": null,
            "grid_gap": null,
            "max_width": null,
            "order": null,
            "_view_module_version": "1.2.0",
            "grid_template_areas": null,
            "object_position": null,
            "object_fit": null,
            "grid_auto_columns": null,
            "margin": null,
            "display": null,
            "left": null
          }
        },
        "c5ee70b2b2034fca867d41ef1a33addc": {
          "model_module": "@jupyter-widgets/controls",
          "model_name": "DescriptionStyleModel",
          "model_module_version": "1.5.0",
          "state": {
            "_view_name": "StyleView",
            "_model_name": "DescriptionStyleModel",
            "description_width": "",
            "_view_module": "@jupyter-widgets/base",
            "_model_module_version": "1.5.0",
            "_view_count": null,
            "_view_module_version": "1.2.0",
            "_model_module": "@jupyter-widgets/controls"
          }
        },
        "acc4b1afa30445c49200390f9d32c174": {
          "model_module": "@jupyter-widgets/base",
          "model_name": "LayoutModel",
          "model_module_version": "1.2.0",
          "state": {
            "_view_name": "LayoutView",
            "grid_template_rows": null,
            "right": null,
            "justify_content": null,
            "_view_module": "@jupyter-widgets/base",
            "overflow": null,
            "_model_module_version": "1.2.0",
            "_view_count": null,
            "flex_flow": null,
            "width": null,
            "min_width": null,
            "border": null,
            "align_items": null,
            "bottom": null,
            "_model_module": "@jupyter-widgets/base",
            "top": null,
            "grid_column": null,
            "overflow_y": null,
            "overflow_x": null,
            "grid_auto_flow": null,
            "grid_area": null,
            "grid_template_columns": null,
            "flex": null,
            "_model_name": "LayoutModel",
            "justify_items": null,
            "grid_row": null,
            "max_height": null,
            "align_content": null,
            "visibility": null,
            "align_self": null,
            "height": null,
            "min_height": null,
            "padding": null,
            "grid_auto_rows": null,
            "grid_gap": null,
            "max_width": null,
            "order": null,
            "_view_module_version": "1.2.0",
            "grid_template_areas": null,
            "object_position": null,
            "object_fit": null,
            "grid_auto_columns": null,
            "margin": null,
            "display": null,
            "left": null
          }
        }
      }
    }
  },
  "cells": [
    {
      "cell_type": "markdown",
      "metadata": {
        "id": "view-in-github",
        "colab_type": "text"
      },
      "source": [
        "<a href=\"https://colab.research.google.com/github/StephenScinocca/CNN/blob/main/ResNet.ipynb\" target=\"_parent\"><img src=\"https://colab.research.google.com/assets/colab-badge.svg\" alt=\"Open In Colab\"/></a>"
      ]
    },
    {
      "cell_type": "markdown",
      "metadata": {
        "id": "nmfIa2aT2d_R"
      },
      "source": [
        "All of the different packages used for this notebook\n"
      ]
    },
    {
      "cell_type": "code",
      "metadata": {
        "id": "mmRHaaiAfxIn"
      },
      "source": [
        "%matplotlib inline\n",
        "\n",
        "import torch\n",
        "import torch.nn as nn\n",
        "import torch.optim as optim\n",
        "import torch.nn.functional as F\n",
        "from torch.utils.data import DataLoader, SubsetRandomSampler\n",
        "\n",
        "import numpy as np\n",
        "import math \n",
        "from sklearn.model_selection import train_test_split\n",
        "\n",
        "import torchvision\n",
        "import torchvision.transforms as T\n",
        "import torchvision.models as models\n",
        "\n",
        "import matplotlib.pyplot as plt\n",
        "\n"
      ],
      "execution_count": 1,
      "outputs": []
    },
    {
      "cell_type": "markdown",
      "metadata": {
        "id": "8CziEoEP2iD4"
      },
      "source": [
        "# Functions\n",
        "\n",
        "The following functions are called for my model, and they are:\n",
        "\n",
        "## Setup of Model\n",
        "\n",
        "### get_device()\n",
        "  Checks to see what device (cpu or cuda) we are using\n",
        "\n",
        "### to_device(data, device)\n",
        "  Sets data to go to that device so we can use a GPU on google docs"
      ]
    },
    {
      "cell_type": "code",
      "metadata": {
        "id": "0-SALBh9f9So"
      },
      "source": [
        "def get_device():\n",
        "    if torch.cuda.is_available():\n",
        "        return torch.device(\"cuda\")\n",
        "    return torch.device(\"cpu\")\n",
        "\n",
        "def to_device(data,device):\n",
        "    if isinstance(data,(list,tuple)):\n",
        "        return [to_device(x,device) for x in data]\n",
        "    return data.to(device,non_blocking=True)\n",
        "\n",
        "\n",
        "class ToDeviceLoader:\n",
        "    def __init__(self,data,device):\n",
        "        self.data = data\n",
        "        self.device = device\n",
        "        \n",
        "    def __iter__(self):\n",
        "        for batch in self.data:\n",
        "            yield to_device(batch,self.device)\n",
        "            \n",
        "    def __len__(self):\n",
        "        return len(self.data)\n"
      ],
      "execution_count": 2,
      "outputs": []
    },
    {
      "cell_type": "markdown",
      "metadata": {
        "id": "YZdB2SXU20u_"
      },
      "source": [
        "## In use by Model\n",
        "\n",
        "### convolutions(in_channel,out_channel,kernel, pad = 0) \n",
        "Takes in starting channels, the ending channels, kernel size, and padding, then does a 2d convultion followed up by batch normalization\n",
        "\n",
        "### training (epochs, optimizer, scheduler, criterion, trainloader, validloader, net) \n",
        "Takes in all of the information needed to train the convolutional neural net and trains it over the number of epochs past into it. At the end, it outputs the trained network as net, training loss, validation loss, and valodaition accuracy, witht he last 3 being lists of each loss and accuracy after each epoch.\n",
        "\n",
        "\n",
        "### accuracy(net, loader, k = 1)\n",
        "Taking in a trained network and a loader (trainloader, testloader, validloader), and k which is top k accuracy. The default is k = 1, or top 1 accuracy. It prints out the accuracy of the model at the end\n",
        "\n",
        "### validation_a_and_l(net, validloader, criterion, epoch)\n",
        "\n",
        "Gets the validation accuracy and the validation loss, is called after training is finishe don an epoch. It prints out the loss and accuracy to the console, and also returns the values. \n",
        "\n",
        "### plot_losses(val_losses, losses, epochs)\n",
        "\n",
        "Plots the loss values of training and validation each epoch\n",
        "\n",
        "### plot_accuracy(val_accuracy, epochs)\n",
        "\n",
        "Plots the accuracy of the validation set each epoch"
      ]
    },
    {
      "cell_type": "code",
      "metadata": {
        "id": "H5c7c1Ywf-FU"
      },
      "source": [
        "# for each convolutional layer, does the convolution then does batch normalization\n",
        "def convolutions(in_channel,out_channel,kernel, pad = 0):\n",
        "  layers = [nn.Conv2d(in_channel,out_channel,kernel, padding = pad),\n",
        "             nn.BatchNorm2d(out_channel)]\n",
        "  return nn.Sequential(*layers)\n",
        "\n",
        "def training (epochs, optimizer, scheduler, criterion, trainloader, validloader, net):\n",
        "  # tracking the training loss per epoch\n",
        "  train_losses = []\n",
        "  # tracking the validation loss per epoch\n",
        "  val_losses = []\n",
        "  # tracking the validation accuracy per epoch\n",
        "  val_accuracy = []\n",
        "  for epoch in range(epochs):\n",
        "      #sets the network in training mode\n",
        "      net.train()\n",
        "      # running loss is the loss per epoch\n",
        "      running_loss = 0.0\n",
        "      for i, data in enumerate(trainloader, 0):\n",
        "          inputs, labels = data\n",
        "          optimizer.zero_grad()\n",
        "          # Gives you the outputs of each image in the batch\n",
        "          outputs = net(inputs)\n",
        "          # Calculates the loss of each \n",
        "          loss = criterion(outputs, labels)\n",
        "          # Computes gradients for each parameter\n",
        "          loss.backward()\n",
        "          # Optimizer updates\n",
        "          optimizer.step()\n",
        "          # scheduelr updates\n",
        "          scheduler.step()\n",
        "          # tracks the loss of each item in the batch and adds them to running loss\n",
        "          running_loss += loss.item()\n",
        "          \n",
        "      # prints out the training loss\n",
        "      print('[{}] Training loss: {:.3f}'.format(epoch, running_loss / len(trainloader)))\n",
        "      train_losses.append(running_loss / len(trainloader))\n",
        "      val_l, val_a = validation_a_and_l(net, validloader, criterion, epoch)\n",
        "      val_losses.append(val_l)\n",
        "      val_accuracy.append(val_a)\n",
        "  print(\"Finished Training\")\n",
        "  return (net, train_losses, val_losses, val_accuracy)\n",
        "\n",
        "\n",
        "def accuracy(net, loader, k = 1):\n",
        "  # number of correct predictions\n",
        "  correct = 0\n",
        "  # total number of labels (= 10000)\n",
        "  total = 0\n",
        "  # puts net in evaluation mode\n",
        "  net.eval()\n",
        "  with torch.no_grad():\n",
        "    # loads in the data one batch at a time\n",
        "    for data in loader:\n",
        "        images, labels = data\n",
        "        # outputs is the new output from running those images through the net\n",
        "        outputs = net(images)\n",
        "        # gets predictions from network (top k)\n",
        "        _, predicted = torch.topk(outputs.data, k, dim = 1)\n",
        "        # transpose the predictions\n",
        "        predicted = predicted.t()\n",
        "        # expand the labels to be the same length as the predictions\n",
        "        labels_expanded = labels.view(1, -1).expand_as(predicted)\n",
        "        # if any of the top k choices match with the label adds to correct\n",
        "        topk_correct = (predicted == labels_expanded)\n",
        "        # reshape topk_correct \n",
        "        topk_matched_truth = topk_correct.reshape(-1).float()\n",
        "        # actually gets the number of correct lable sin the top k amount\n",
        "        correct += topk_matched_truth.float().sum(dim=0, keepdim=True)\n",
        "        # adds the total per batch\n",
        "        total += labels.size(0)\n",
        "  # prints the top k accuracy for the loader (usually testloader passed in)\n",
        "  print(\"Top {} accuracy: {:.1f}%\".format(k, 100 * int(correct) / total))\n",
        "\n",
        "\n",
        "def validation_a_and_l(net, validloader, criterion, epoch):\n",
        "  # number of correct predictions\n",
        "  correct = 0\n",
        "  # total number of labels (= 10000)\n",
        "  total = 0\n",
        "  # Running loss of validation\n",
        "  running_loss = 0.0\n",
        "  # puts net in evaluation mode\n",
        "  net.eval()\n",
        "  with torch.no_grad():\n",
        "    # loads in the data one batch at a time\n",
        "    for data in validloader:\n",
        "        # gets the images and labels from that batch\n",
        "        images, labels = data\n",
        "        # outputs is the new output from running those images through the net\n",
        "        outputs = net(images)\n",
        "        # gets predictions from network (top 1)\n",
        "        _, predicted = torch.max(outputs.data, 1)\n",
        "        # updates the total each batch\n",
        "        total += labels.size(0)\n",
        "        # updates with the total number of correct predictions each batch\n",
        "        correct += (predicted == labels).sum().item()\n",
        "        # updated the valiadation loss each batch\n",
        "        val_loss = criterion(outputs, labels)\n",
        "        # updates running loss with the new valiation loss\n",
        "        running_loss += val_loss\n",
        "  # prints the valiadtion loss and accuracy in this epoch\n",
        "  print('[{}] Validation loss: {:.3f}'.format(epoch, running_loss / len(validloader)))\n",
        "  print(\"[{}] Accuracy of validation set: {:.1f}%\".format(epoch, 100 * correct / total))\n",
        "  # returns the validation loss and accuracy in this epoch\n",
        "  return (running_loss / len(validloader), correct / total)\n",
        "\n",
        "# plots the losses\n",
        "def plot_losses(val_losses, train_losses, epochs):\n",
        "  plt.plot(val_losses, label = \"Validation\")\n",
        "  plt.plot(train_losses, label = \"Training\")\n",
        "  plt.xlabel(\"epochs\")\n",
        "  plt.ylabel(\"Losses\")\n",
        "  plt.legend(title = \"Losses\")\n",
        "  plt.title(\"Losses over {} epochs\".format(epochs))\n",
        "\n",
        "# plots the accuracy  \n",
        "def plot_accuracy(accuracy, epochs):\n",
        "  plt.plot(accuracy)\n",
        "  plt.xlabel(\"epochs\")\n",
        "  plt.ylabel(\"Accuracy\")\n",
        "  plt.title(\"Validation Accuracy over {} epochs\".format(epochs))\n"
      ],
      "execution_count": 3,
      "outputs": []
    },
    {
      "cell_type": "markdown",
      "metadata": {
        "id": "-KckfmRi3NN8"
      },
      "source": [
        "Now we do the transformations and load in the data. I transform the training set with RandomCrop with padding (mode is reflect), and randomHorizontalFlip. We also use RandomRotation(deg = 180), as this model was overfitting a lot without it. We also normalize with the mean and std found in CNN\n"
      ]
    },
    {
      "cell_type": "code",
      "metadata": {
        "colab": {
          "base_uri": "https://localhost:8080/",
          "height": 104,
          "referenced_widgets": [
            "99bd81a7f78e4f82b696df9c1d13cbe7",
            "0f3d7e66f03941a4bad3733af8b49cf5",
            "ef75602b49184e7ea4baa5a8ecc3dbde",
            "95d90512bca44bc2bfa58145856a920d",
            "c607714ee6f0442e94dbdd7b90074f77",
            "bfd04659c01f47dd9817314002c768bb",
            "01676c890edc4f1e8b95f6b0677ddefa",
            "bd593faace3444bc8ef44d705f340ea0",
            "6b869ec01765429da85989a4d603fdae",
            "c5ee70b2b2034fca867d41ef1a33addc",
            "acc4b1afa30445c49200390f9d32c174"
          ]
        },
        "id": "yEbcV_QVgCiX",
        "outputId": "d2ca121e-2ef5-49cf-c293-66fb91568b24"
      },
      "source": [
        "transform1 = T.Compose(\n",
        "    [\n",
        "    # T.RandomRotation(degrees = (0,180)), # Can be added or removed\n",
        "    T.RandomCrop(32, padding=4,padding_mode='reflect'),\n",
        "    T.RandomHorizontalFlip(),\n",
        "    T.ToTensor(),\n",
        "    T.Normalize((0.50695723, 0.48641145, 0.4407998), (0.25612617, 0.24619192, 0.2645457))]\n",
        "    )\n",
        "\n",
        "transform2 = T.Compose(\n",
        "    [\n",
        "#     T.RandomRotation(degrees = (0,180)),\n",
        "    T.ToTensor(),\n",
        "    T.Normalize((0.50695723, 0.48641145, 0.4407998), (0.25612617, 0.24619192, 0.2645457))]\n",
        "    )\n",
        "\n",
        "trainset = torchvision.datasets.CIFAR100(root='./data', train = True,\n",
        "                                         download = True, transform = transform1)\n",
        "\n",
        "\n",
        "testset = torchvision.datasets.CIFAR100(root='./data', train = False,\n",
        "                                         download = True, transform = transform2)\n",
        "batches=64\n",
        "\n",
        "\n"
      ],
      "execution_count": 4,
      "outputs": [
        {
          "output_type": "stream",
          "name": "stdout",
          "text": [
            "Downloading https://www.cs.toronto.edu/~kriz/cifar-100-python.tar.gz to ./data/cifar-100-python.tar.gz\n"
          ]
        },
        {
          "output_type": "display_data",
          "data": {
            "application/vnd.jupyter.widget-view+json": {
              "model_id": "99bd81a7f78e4f82b696df9c1d13cbe7",
              "version_minor": 0,
              "version_major": 2
            },
            "text/plain": [
              "  0%|          | 0/169001437 [00:00<?, ?it/s]"
            ]
          },
          "metadata": {}
        },
        {
          "output_type": "stream",
          "name": "stdout",
          "text": [
            "Extracting ./data/cifar-100-python.tar.gz to ./data\n",
            "Files already downloaded and verified\n"
          ]
        }
      ]
    },
    {
      "cell_type": "markdown",
      "metadata": {
        "id": "1p86bntX3Ups"
      },
      "source": [
        "## Split the validation and training set equally among classes\n",
        "\n",
        "\n",
        "This section shows how to use test_train_split from scikit learn to get the indices of each class in the sets, randomly scramble them with SubsetRandomSampler, and then load them in using the sample condition to get your validation set and testing set\n",
        "\n",
        "The validation set has 100 images of each class, as does the test set. The training set has 400 images of each class"
      ]
    },
    {
      "cell_type": "code",
      "metadata": {
        "colab": {
          "base_uri": "https://localhost:8080/"
        },
        "id": "4UaE_pRMgNKu",
        "outputId": "a9e39236-fa58-42ca-9469-e6f4303d6d83"
      },
      "source": [
        "# print((trainset.classes))\n",
        "# This gives the indices of the training set\n",
        "trainset_indices = [i for i in range(len(trainset))]\n",
        "# With this we can get a split of the indices of trainset to be compelety evenly split between the classes\n",
        "train_indices, val_indices, train_tar, val_tar = train_test_split(trainset_indices, trainset.targets, test_size = 0.2, stratify = trainset.targets, random_state=78)\n",
        "# this splits the subsets randomly for training samples\n",
        "train_sampler = SubsetRandomSampler(train_indices)\n",
        "# this splits the subsets randomly for validation samples\n",
        "val_sampler = SubsetRandomSampler(val_indices)\n",
        "#load them using dataloader, and use sampler with the indicies to know which ones have the correct split\n",
        "trainloader = DataLoader(trainset, num_workers=2,pin_memory=True, shuffle=False, batch_size=batches, sampler=train_sampler)\n",
        "validloader = DataLoader(trainset, num_workers=2,pin_memory=True, shuffle=False, batch_size=batches, sampler=val_sampler)\n",
        "testloader = DataLoader(testset, batch_size=batches, num_workers=2,pin_memory=True, shuffle=False)\n",
        "\n",
        "device = get_device()\n",
        "print(device)\n",
        "\n",
        "trainloader = ToDeviceLoader(trainloader,device)\n",
        "validloader = ToDeviceLoader(validloader,device)\n",
        "testloader = ToDeviceLoader(testloader,device)"
      ],
      "execution_count": 5,
      "outputs": [
        {
          "output_type": "stream",
          "name": "stdout",
          "text": [
            "cuda\n"
          ]
        }
      ]
    },
    {
      "cell_type": "markdown",
      "metadata": {
        "id": "xI5BsmT03qvK"
      },
      "source": [
        "Load in resnet "
      ]
    },
    {
      "cell_type": "code",
      "metadata": {
        "id": "zRFiWl9egN7e"
      },
      "source": [
        "resnet18 = models.resnet18()\n",
        "net = to_device(resnet18,device) "
      ],
      "execution_count": 6,
      "outputs": []
    },
    {
      "cell_type": "markdown",
      "metadata": {
        "id": "vguF4ZxGBwpy"
      },
      "source": [
        "Set the variables needed for the model to run"
      ]
    },
    {
      "cell_type": "code",
      "metadata": {
        "id": "VTfa9xiKgG_U"
      },
      "source": [
        "epochs = 75\n",
        "\n",
        "criterion = nn.CrossEntropyLoss()\n",
        "optimizer = optim.SGD(net.parameters(), lr = 0.1, momentum = 0.9)\n",
        "# scheduler = optim.lr_scheduler.ExponentialLR(optimizer, gamma = 0.9, last_epoch=- 1, verbose=True)\n",
        "scheduler = optim.lr_scheduler.OneCycleLR(optimizer, max_lr = 0.001, epochs = epochs, steps_per_epoch=len(trainloader))"
      ],
      "execution_count": 7,
      "outputs": []
    },
    {
      "cell_type": "markdown",
      "metadata": {
        "id": "TgCnef8K3zn6"
      },
      "source": [
        "Run the model with training!"
      ]
    },
    {
      "cell_type": "code",
      "metadata": {
        "colab": {
          "base_uri": "https://localhost:8080/"
        },
        "id": "sm9mHRzjf03R",
        "outputId": "627dd5be-777a-4180-c4c9-44060b8193e3"
      },
      "source": [
        "net, train_losses, val_losses, val_accuracy = training(epochs, optimizer, scheduler, criterion, trainloader, validloader, net)"
      ],
      "execution_count": 8,
      "outputs": [
        {
          "output_type": "stream",
          "name": "stdout",
          "text": [
            "[0] Training loss: 6.389\n",
            "[0] Validation loss: 5.581\n",
            "[0] Accuracy of validation set: 4.8%\n",
            "[1] Training loss: 4.986\n",
            "[1] Validation loss: 4.528\n",
            "[1] Accuracy of validation set: 8.0%\n",
            "[2] Training loss: 4.269\n",
            "[2] Validation loss: 4.069\n",
            "[2] Accuracy of validation set: 10.9%\n",
            "[3] Training loss: 3.946\n",
            "[3] Validation loss: 3.827\n",
            "[3] Accuracy of validation set: 13.4%\n",
            "[4] Training loss: 3.738\n",
            "[4] Validation loss: 3.652\n",
            "[4] Accuracy of validation set: 15.0%\n",
            "[5] Training loss: 3.578\n",
            "[5] Validation loss: 3.514\n",
            "[5] Accuracy of validation set: 17.6%\n",
            "[6] Training loss: 3.437\n",
            "[6] Validation loss: 3.401\n",
            "[6] Accuracy of validation set: 19.0%\n",
            "[7] Training loss: 3.312\n",
            "[7] Validation loss: 3.280\n",
            "[7] Accuracy of validation set: 21.1%\n",
            "[8] Training loss: 3.198\n",
            "[8] Validation loss: 3.174\n",
            "[8] Accuracy of validation set: 22.2%\n",
            "[9] Training loss: 3.078\n",
            "[9] Validation loss: 3.086\n",
            "[9] Accuracy of validation set: 24.2%\n",
            "[10] Training loss: 2.990\n",
            "[10] Validation loss: 3.004\n",
            "[10] Accuracy of validation set: 26.4%\n",
            "[11] Training loss: 2.886\n",
            "[11] Validation loss: 2.988\n",
            "[11] Accuracy of validation set: 26.2%\n",
            "[12] Training loss: 2.812\n",
            "[12] Validation loss: 2.849\n",
            "[12] Accuracy of validation set: 28.7%\n",
            "[13] Training loss: 2.721\n",
            "[13] Validation loss: 2.807\n",
            "[13] Accuracy of validation set: 30.1%\n",
            "[14] Training loss: 2.639\n",
            "[14] Validation loss: 2.775\n",
            "[14] Accuracy of validation set: 30.2%\n",
            "[15] Training loss: 2.574\n",
            "[15] Validation loss: 2.707\n",
            "[15] Accuracy of validation set: 31.4%\n",
            "[16] Training loss: 2.511\n",
            "[16] Validation loss: 2.661\n",
            "[16] Accuracy of validation set: 32.2%\n",
            "[17] Training loss: 2.450\n",
            "[17] Validation loss: 2.665\n",
            "[17] Accuracy of validation set: 32.8%\n",
            "[18] Training loss: 2.383\n",
            "[18] Validation loss: 2.628\n",
            "[18] Accuracy of validation set: 33.0%\n",
            "[19] Training loss: 2.324\n",
            "[19] Validation loss: 2.560\n",
            "[19] Accuracy of validation set: 34.9%\n",
            "[20] Training loss: 2.269\n",
            "[20] Validation loss: 2.532\n",
            "[20] Accuracy of validation set: 35.0%\n",
            "[21] Training loss: 2.215\n",
            "[21] Validation loss: 2.524\n",
            "[21] Accuracy of validation set: 35.5%\n",
            "[22] Training loss: 2.163\n",
            "[22] Validation loss: 2.475\n",
            "[22] Accuracy of validation set: 36.9%\n",
            "[23] Training loss: 2.116\n",
            "[23] Validation loss: 2.465\n",
            "[23] Accuracy of validation set: 37.0%\n",
            "[24] Training loss: 2.069\n",
            "[24] Validation loss: 2.442\n",
            "[24] Accuracy of validation set: 37.3%\n",
            "[25] Training loss: 2.019\n",
            "[25] Validation loss: 2.458\n",
            "[25] Accuracy of validation set: 37.1%\n",
            "[26] Training loss: 1.974\n",
            "[26] Validation loss: 2.450\n",
            "[26] Accuracy of validation set: 37.5%\n",
            "[27] Training loss: 1.931\n",
            "[27] Validation loss: 2.393\n",
            "[27] Accuracy of validation set: 39.2%\n",
            "[28] Training loss: 1.885\n",
            "[28] Validation loss: 2.381\n",
            "[28] Accuracy of validation set: 38.7%\n",
            "[29] Training loss: 1.846\n",
            "[29] Validation loss: 2.369\n",
            "[29] Accuracy of validation set: 39.8%\n",
            "[30] Training loss: 1.802\n",
            "[30] Validation loss: 2.372\n",
            "[30] Accuracy of validation set: 39.0%\n",
            "[31] Training loss: 1.769\n",
            "[31] Validation loss: 2.409\n",
            "[31] Accuracy of validation set: 38.6%\n",
            "[32] Training loss: 1.726\n",
            "[32] Validation loss: 2.346\n",
            "[32] Accuracy of validation set: 40.3%\n",
            "[33] Training loss: 1.686\n",
            "[33] Validation loss: 2.350\n",
            "[33] Accuracy of validation set: 40.1%\n",
            "[34] Training loss: 1.644\n",
            "[34] Validation loss: 2.341\n",
            "[34] Accuracy of validation set: 40.9%\n",
            "[35] Training loss: 1.614\n",
            "[35] Validation loss: 2.333\n",
            "[35] Accuracy of validation set: 40.8%\n",
            "[36] Training loss: 1.578\n",
            "[36] Validation loss: 2.366\n",
            "[36] Accuracy of validation set: 40.5%\n",
            "[37] Training loss: 1.539\n",
            "[37] Validation loss: 2.348\n",
            "[37] Accuracy of validation set: 40.9%\n",
            "[38] Training loss: 1.499\n",
            "[38] Validation loss: 2.314\n",
            "[38] Accuracy of validation set: 42.1%\n",
            "[39] Training loss: 1.462\n",
            "[39] Validation loss: 2.309\n",
            "[39] Accuracy of validation set: 41.8%\n",
            "[40] Training loss: 1.429\n",
            "[40] Validation loss: 2.343\n",
            "[40] Accuracy of validation set: 41.7%\n",
            "[41] Training loss: 1.399\n",
            "[41] Validation loss: 2.328\n",
            "[41] Accuracy of validation set: 42.1%\n",
            "[42] Training loss: 1.358\n",
            "[42] Validation loss: 2.350\n",
            "[42] Accuracy of validation set: 41.4%\n",
            "[43] Training loss: 1.337\n",
            "[43] Validation loss: 2.328\n",
            "[43] Accuracy of validation set: 42.1%\n",
            "[44] Training loss: 1.288\n",
            "[44] Validation loss: 2.348\n",
            "[44] Accuracy of validation set: 41.8%\n",
            "[45] Training loss: 1.263\n",
            "[45] Validation loss: 2.340\n",
            "[45] Accuracy of validation set: 42.3%\n",
            "[46] Training loss: 1.226\n",
            "[46] Validation loss: 2.346\n",
            "[46] Accuracy of validation set: 42.6%\n",
            "[47] Training loss: 1.204\n",
            "[47] Validation loss: 2.335\n",
            "[47] Accuracy of validation set: 43.0%\n",
            "[48] Training loss: 1.159\n",
            "[48] Validation loss: 2.383\n",
            "[48] Accuracy of validation set: 42.7%\n",
            "[49] Training loss: 1.132\n",
            "[49] Validation loss: 2.354\n",
            "[49] Accuracy of validation set: 43.1%\n",
            "[50] Training loss: 1.099\n",
            "[50] Validation loss: 2.358\n",
            "[50] Accuracy of validation set: 43.0%\n",
            "[51] Training loss: 1.061\n",
            "[51] Validation loss: 2.368\n",
            "[51] Accuracy of validation set: 42.5%\n",
            "[52] Training loss: 1.027\n",
            "[52] Validation loss: 2.394\n",
            "[52] Accuracy of validation set: 42.9%\n",
            "[53] Training loss: 1.005\n",
            "[53] Validation loss: 2.365\n",
            "[53] Accuracy of validation set: 43.5%\n",
            "[54] Training loss: 0.969\n",
            "[54] Validation loss: 2.353\n",
            "[54] Accuracy of validation set: 43.3%\n",
            "[55] Training loss: 0.949\n",
            "[55] Validation loss: 2.405\n",
            "[55] Accuracy of validation set: 43.2%\n",
            "[56] Training loss: 0.913\n",
            "[56] Validation loss: 2.383\n",
            "[56] Accuracy of validation set: 43.4%\n",
            "[57] Training loss: 0.879\n",
            "[57] Validation loss: 2.379\n",
            "[57] Accuracy of validation set: 43.8%\n",
            "[58] Training loss: 0.857\n",
            "[58] Validation loss: 2.397\n",
            "[58] Accuracy of validation set: 43.3%\n",
            "[59] Training loss: 0.822\n",
            "[59] Validation loss: 2.369\n",
            "[59] Accuracy of validation set: 43.7%\n",
            "[60] Training loss: 0.794\n",
            "[60] Validation loss: 2.403\n",
            "[60] Accuracy of validation set: 43.4%\n",
            "[61] Training loss: 0.773\n",
            "[61] Validation loss: 2.396\n",
            "[61] Accuracy of validation set: 43.7%\n",
            "[62] Training loss: 0.753\n",
            "[62] Validation loss: 2.397\n",
            "[62] Accuracy of validation set: 44.5%\n",
            "[63] Training loss: 0.726\n",
            "[63] Validation loss: 2.382\n",
            "[63] Accuracy of validation set: 44.9%\n",
            "[64] Training loss: 0.705\n",
            "[64] Validation loss: 2.387\n",
            "[64] Accuracy of validation set: 44.6%\n",
            "[65] Training loss: 0.689\n",
            "[65] Validation loss: 2.405\n",
            "[65] Accuracy of validation set: 44.5%\n",
            "[66] Training loss: 0.669\n",
            "[66] Validation loss: 2.402\n",
            "[66] Accuracy of validation set: 44.1%\n",
            "[67] Training loss: 0.653\n",
            "[67] Validation loss: 2.416\n",
            "[67] Accuracy of validation set: 44.0%\n",
            "[68] Training loss: 0.639\n",
            "[68] Validation loss: 2.398\n",
            "[68] Accuracy of validation set: 44.4%\n",
            "[69] Training loss: 0.629\n",
            "[69] Validation loss: 2.423\n",
            "[69] Accuracy of validation set: 44.1%\n",
            "[70] Training loss: 0.614\n",
            "[70] Validation loss: 2.392\n",
            "[70] Accuracy of validation set: 44.6%\n",
            "[71] Training loss: 0.616\n",
            "[71] Validation loss: 2.404\n",
            "[71] Accuracy of validation set: 44.8%\n",
            "[72] Training loss: 0.603\n",
            "[72] Validation loss: 2.383\n",
            "[72] Accuracy of validation set: 44.9%\n",
            "[73] Training loss: 0.604\n",
            "[73] Validation loss: 2.401\n",
            "[73] Accuracy of validation set: 44.8%\n",
            "[74] Training loss: 0.600\n",
            "[74] Validation loss: 2.408\n",
            "[74] Accuracy of validation set: 45.0%\n",
            "Finished Training\n"
          ]
        }
      ]
    },
    {
      "cell_type": "markdown",
      "metadata": {
        "id": "hvBMIY1f34XB"
      },
      "source": [
        "Get the top 1 and top 5 accuracy of the model trained"
      ]
    },
    {
      "cell_type": "code",
      "metadata": {
        "colab": {
          "base_uri": "https://localhost:8080/"
        },
        "id": "Q_Qwq92Pgpk0",
        "outputId": "787a48f0-6fe9-4f48-989d-13a95bd23039"
      },
      "source": [
        "accuracy(net, testloader, k = 1)\n",
        "accuracy(net, testloader, k = 5)"
      ],
      "execution_count": 9,
      "outputs": [
        {
          "output_type": "stream",
          "name": "stdout",
          "text": [
            "Top 1 accuracy: 47.7%\n",
            "Top 5 accuracy: 75.3%\n"
          ]
        }
      ]
    },
    {
      "cell_type": "markdown",
      "metadata": {
        "id": "g9mIw6D-39dq"
      },
      "source": [
        "Plot the loss of the training and validation sets"
      ]
    },
    {
      "cell_type": "code",
      "metadata": {
        "colab": {
          "base_uri": "https://localhost:8080/",
          "height": 295
        },
        "id": "hVTn9rrQgqdP",
        "outputId": "f39e7cde-941d-4390-e7f2-869ef62240e0"
      },
      "source": [
        "plot_losses(train_losses, val_losses, epochs)"
      ],
      "execution_count": 11,
      "outputs": [
        {
          "output_type": "display_data",
          "data": {
            "image/png": "[encoded data removed]",
            "text/plain": [
              "<Figure size 432x288 with 1 Axes>"
            ]
          },
          "metadata": {
            "needs_background": "light"
          }
        }
      ]
    },
    {
      "cell_type": "markdown",
      "metadata": {
        "id": "LcBCt4T34JUn"
      },
      "source": [
        "Plot the validation accuracy each epoch"
      ]
    },
    {
      "cell_type": "code",
      "metadata": {
        "colab": {
          "base_uri": "https://localhost:8080/",
          "height": 295
        },
        "id": "0c8T7-o8gtzQ",
        "outputId": "1de4baf1-da14-45da-c215-a130bce800bb"
      },
      "source": [
        "plot_accuracy(val_accuracy, epochs)"
      ],
      "execution_count": 12,
      "outputs": [
        {
          "output_type": "display_data",
          "data": {
            "image/png": "[encoded data removed]",
            "text/plain": [
              "<Figure size 432x288 with 1 Axes>"
            ]
          },
          "metadata": {
            "needs_background": "light"
          }
        }
      ]
    },
    {
      "cell_type": "markdown",
      "metadata": {
        "id": "XqNqTQA-4aHq"
      },
      "source": [
        "This next part was used for testing different variations of the model with different learning rates and such. I have left it to check for different max learning rates for the OneCycleLR scheduler"
      ]
    },
    {
      "cell_type": "code",
      "metadata": {
        "colab": {
          "base_uri": "https://localhost:8080/"
        },
        "id": "Ddltsrai8KCz",
        "outputId": "188132a1-ea41-46e9-8260-95171a71c165"
      },
      "source": [
        "epochs = 5\n",
        "\n",
        "criterion = nn.CrossEntropyLoss()\n",
        "optimizer = optim.SGD(net.parameters(), lr = 0.1, momentum = 0.9)\n",
        "\n",
        "scheduler = optim.lr_scheduler.OneCycleLR(optimizer, max_lr = 0.01, epochs = epochs, steps_per_epoch=len(trainloader))\n",
        "\n",
        "learning_rates = [0.001, 0.005, 0.01]\n",
        "\n",
        "losses = np.zeros([len(learning_rates),epochs])\n",
        "val_losses = np.zeros([len(learning_rates),epochs])\n",
        "val_acc = np.zeros([len(learning_rates),epochs])\n",
        "nets = []\n",
        "\n",
        "for i in range(len(learning_rates)):\n",
        "  resnet18 = models.resnet18()\n",
        "  testnet = to_device(resnet18,device) \n",
        "  optimizer = optim.SGD(net.parameters(), lr = learning_rates[i], momentum = 0.9)\n",
        "  scheduler = optim.lr_scheduler.OneCycleLR(optimizer, max_lr = learning_rates[i], epochs = epochs, steps_per_epoch=len(trainloader))\n",
        "  n, train_losses[i], val_losses[i], val_acc[i] = training(epochs, optimizer, scheduler, criterion, trainloader, validloader, testnet)\n",
        "  nets.append(n)\n",
        " \n"
      ],
      "execution_count": 13,
      "outputs": [
        {
          "output_type": "stream",
          "name": "stdout",
          "text": [
            "[0] Training loss: 5.484\n",
            "[0] Validation loss: 4.048\n",
            "[0] Accuracy of validation set: 10.5%\n",
            "[1] Training loss: 3.802\n",
            "[1] Validation loss: 3.609\n",
            "[1] Accuracy of validation set: 15.5%\n",
            "[2] Training loss: 3.491\n",
            "[2] Validation loss: 3.368\n",
            "[2] Accuracy of validation set: 19.1%\n",
            "[3] Training loss: 3.287\n",
            "[3] Validation loss: 3.248\n",
            "[3] Accuracy of validation set: 21.5%\n",
            "[4] Training loss: 3.156\n",
            "[4] Validation loss: 3.192\n",
            "[4] Accuracy of validation set: 22.6%\n",
            "Finished Training\n",
            "[0] Training loss: 4.622\n",
            "[0] Validation loss: 3.708\n",
            "[0] Accuracy of validation set: 13.1%\n",
            "[1] Training loss: 3.473\n",
            "[1] Validation loss: 3.294\n",
            "[1] Accuracy of validation set: 20.4%\n",
            "[2] Training loss: 3.093\n",
            "[2] Validation loss: 3.008\n",
            "[2] Accuracy of validation set: 25.6%\n",
            "[3] Training loss: 2.782\n",
            "[3] Validation loss: 2.792\n",
            "[3] Accuracy of validation set: 29.3%\n",
            "[4] Training loss: 2.510\n",
            "[4] Validation loss: 2.584\n",
            "[4] Accuracy of validation set: 34.3%\n",
            "Finished Training\n",
            "[0] Training loss: 4.361\n",
            "[0] Validation loss: 3.691\n",
            "[0] Accuracy of validation set: 14.5%\n",
            "[1] Training loss: 3.425\n",
            "[1] Validation loss: 3.259\n",
            "[1] Accuracy of validation set: 22.2%\n",
            "[2] Training loss: 3.045\n",
            "[2] Validation loss: 2.934\n",
            "[2] Accuracy of validation set: 27.4%\n",
            "[3] Training loss: 2.730\n",
            "[3] Validation loss: 2.650\n",
            "[3] Accuracy of validation set: 32.8%\n",
            "[4] Training loss: 2.410\n",
            "[4] Validation loss: 2.492\n",
            "[4] Accuracy of validation set: 36.1%\n",
            "Finished Training\n"
          ]
        }
      ]
    },
    {
      "cell_type": "markdown",
      "metadata": {
        "id": "HcRiJhUd4fM7"
      },
      "source": [
        "Plot the top 1 and top 5 accuracy of each network"
      ]
    },
    {
      "cell_type": "code",
      "metadata": {
        "colab": {
          "base_uri": "https://localhost:8080/"
        },
        "id": "LQxNKARk8mTa",
        "outputId": "10b3b639-f46b-42aa-f365-0b02e22434df"
      },
      "source": [
        "for net in nets:\n",
        "  accuracy(net, testloader, k = 1)\n",
        "  accuracy(net, testloader, k = 5)"
      ],
      "execution_count": 14,
      "outputs": [
        {
          "output_type": "stream",
          "name": "stdout",
          "text": [
            "Top 1 accuracy: 25.4%\n",
            "Top 5 accuracy: 53.1%\n",
            "Top 1 accuracy: 37.6%\n",
            "Top 5 accuracy: 68.3%\n",
            "Top 1 accuracy: 39.6%\n",
            "Top 5 accuracy: 70.2%\n"
          ]
        }
      ]
    },
    {
      "cell_type": "markdown",
      "metadata": {
        "id": "ykW9eR0F4k1o"
      },
      "source": [
        "Plot the training and validation losses of each network"
      ]
    },
    {
      "cell_type": "code",
      "metadata": {
        "colab": {
          "base_uri": "https://localhost:8080/",
          "height": 313
        },
        "id": "qP3wtiTk8p8Q",
        "outputId": "cbb5c0a9-49dc-4bba-bdde-3bf15bded524"
      },
      "source": [
        "colours = ['g', 'r', 'b', 'c']\n",
        "for i in range(len(learning_rates)):\n",
        "  plt.plot(val_losses[i], '{}--'.format(colours[i]), label = learning_rates[i])\n",
        "  plt.plot(train_losses[i], '{}-'.format(colours[i]), label = learning_rates[i])\n",
        "plt.xlabel(\"epochs\")\n",
        "plt.ylabel(\"loss\")\n",
        "plt.legend(title = \"Learning Rates\")\n",
        "plt.title(\"Max Learning Rates Loss\")"
      ],
      "execution_count": 18,
      "outputs": [
        {
          "output_type": "execute_result",
          "data": {
            "text/plain": [
              "Text(0.5, 1.0, 'Max Learning Rates Loss')"
            ]
          },
          "metadata": {},
          "execution_count": 18
        },
        {
          "output_type": "display_data",
          "data": {
            "image/png": "[encoded data removed]",
            "text/plain": [
              "<Figure size 432x288 with 1 Axes>"
            ]
          },
          "metadata": {
            "needs_background": "light"
          }
        }
      ]
    }
  ]
}