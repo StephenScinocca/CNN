{
  "nbformat": 4,
  "nbformat_minor": 0,
  "metadata": {
    "colab": {
      "name": "Linear Model.ipynb",
      "provenance": [],
      "collapsed_sections": [],
      "authorship_tag": "ABX9TyMHt4gyV5n98vA/WYNOGQks",
      "include_colab_link": true
    },
    "kernelspec": {
      "name": "python3",
      "display_name": "Python 3"
    },
    "language_info": {
      "name": "python"
    },
    "accelerator": "GPU"
  },
  "cells": [
    {
      "cell_type": "markdown",
      "metadata": {
        "id": "view-in-github",
        "colab_type": "text"
      },
      "source": [
        "<a href=\"https://colab.research.google.com/github/StephenScinocca/CNN/blob/main/Linear_Model.ipynb\" target=\"_parent\"><img src=\"https://colab.research.google.com/assets/colab-badge.svg\" alt=\"Open In Colab\"/></a>"
      ]
    },
    {
      "cell_type": "markdown",
      "metadata": {
        "id": "lKzy1Z5e2VN6"
      },
      "source": [
        "All of the different packages used for this notebook\n"
      ]
    },
    {
      "cell_type": "code",
      "metadata": {
        "id": "WIlQ_SKJxLHU"
      },
      "source": [
        "%matplotlib inline\n",
        "\n",
        "import torch\n",
        "import torch.nn as nn\n",
        "import torch.optim as optim\n",
        "import torch.nn.functional as F\n",
        "from torch.utils.data import DataLoader, SubsetRandomSampler\n",
        "\n",
        "import numpy as np\n",
        "import math \n",
        "from sklearn.model_selection import train_test_split\n",
        "\n",
        "import torchvision\n",
        "import torchvision.transforms as T\n",
        "import torchvision.models as models\n",
        "\n",
        "import matplotlib.pyplot as plt\n",
        "\n"
      ],
      "execution_count": 13,
      "outputs": []
    },
    {
      "cell_type": "markdown",
      "metadata": {
        "id": "4N-ErZB3u0xL"
      },
      "source": [
        "# Functions\n",
        "\n",
        "The following functions are called for my model, and they are:\n",
        "\n",
        "## Setup of Model\n",
        "\n",
        "### get_device()\n",
        "  Checks to see what device (cpu or cuda) we are using\n",
        "\n",
        "### to_device(data, device)\n",
        "  Sets data to go to that device so we can use a GPU on google docs"
      ]
    },
    {
      "cell_type": "code",
      "metadata": {
        "id": "gi5rufD6yGhz"
      },
      "source": [
        "def get_device():\n",
        "    if torch.cuda.is_available():\n",
        "        return torch.device(\"cuda\")\n",
        "    return torch.device(\"cpu\")\n",
        "\n",
        "def to_device(data,device):\n",
        "    if isinstance(data,(list,tuple)):\n",
        "        return [to_device(x,device) for x in data]\n",
        "    return data.to(device,non_blocking=True)\n",
        "\n",
        "\n",
        "class ToDeviceLoader:\n",
        "    def __init__(self,data,device):\n",
        "        self.data = data\n",
        "        self.device = device\n",
        "        \n",
        "    def __iter__(self):\n",
        "        for batch in self.data:\n",
        "            yield to_device(batch,self.device)\n",
        "            \n",
        "    def __len__(self):\n",
        "        return len(self.data)\n"
      ],
      "execution_count": 14,
      "outputs": []
    },
    {
      "cell_type": "markdown",
      "metadata": {
        "id": "PwZQ7ZF_xtoH"
      },
      "source": [
        "## In use by Model\n",
        "\n",
        "### convolutions(in_channel,out_channel,kernel, pad = 0) \n",
        "Takes in starting channels, the ending channels, kernel size, and padding, then does a 2d convultion followed up by batch normalization\n",
        "\n",
        "### training (epochs, optimizer, scheduler, criterion, trainloader, validloader, net) \n",
        "Takes in all of the information needed to train the convolutional neural net and trains it over the number of epochs past into it. At the end, it outputs the trained network as net, training loss, validation loss, and valodaition accuracy, witht he last 3 being lists of each loss and accuracy after each epoch.\n",
        "\n",
        "\n",
        "### accuracy(net, loader, k = 1)\n",
        "Taking in a trained network and a loader (trainloader, testloader, validloader), and k which is top k accuracy. The default is k = 1, or top 1 accuracy. It prints out the accuracy of the model at the end\n",
        "\n",
        "### validation_a_and_l(net, validloader, criterion, epoch)\n",
        "\n",
        "Gets the validation accuracy and the validation loss, is called after training is finishe don an epoch. It prints out the loss and accuracy to the console, and also returns the values. \n",
        "\n",
        "### plot_losses(val_losses, losses, epochs)\n",
        "\n",
        "Plots the loss values of training and validation each epoch\n",
        "\n",
        "### plot_accuracy(val_accuracy, epochs)\n",
        "\n",
        "Plots the accuracy of the validation set each epoch"
      ]
    },
    {
      "cell_type": "code",
      "metadata": {
        "id": "mYebNq5hVbtA"
      },
      "source": [
        "# for each convolutional layer, does the convolution then does batch normalization\n",
        "def convolutions(in_channel,out_channel,kernel, pad = 0):\n",
        "  layers = [nn.Conv2d(in_channel,out_channel,kernel, padding = pad),\n",
        "             nn.BatchNorm2d(out_channel)]\n",
        "  return nn.Sequential(*layers)\n",
        "\n",
        "def training (epochs, optimizer, scheduler, criterion, trainloader, validloader, net):\n",
        "  # tracking the training loss per epoch\n",
        "  train_losses = []\n",
        "  # tracking the validation loss per epoch\n",
        "  val_losses = []\n",
        "  # tracking the validation accuracy per epoch\n",
        "  val_accuracy = []\n",
        "  for epoch in range(epochs):\n",
        "      #sets the network in training mode\n",
        "      net.train()\n",
        "      # running loss is the loss per epoch\n",
        "      running_loss = 0.0\n",
        "      for i, data in enumerate(trainloader, 0):\n",
        "          inputs, labels = data\n",
        "          optimizer.zero_grad()\n",
        "          # Gives you the outputs of each image in the batch\n",
        "          outputs = net(inputs)\n",
        "          # Calculates the loss of each \n",
        "          loss = criterion(outputs, labels)\n",
        "          # Computes gradients for each parameter\n",
        "          loss.backward()\n",
        "          # Optimizer updates\n",
        "          optimizer.step()\n",
        "          # scheduelr updates\n",
        "          scheduler.step()\n",
        "          # tracks the loss of each item in the batch and adds them to running loss\n",
        "          running_loss += loss.item()\n",
        "          \n",
        "      # prints out the training loss\n",
        "      print('[{}] Training loss: {:.3f}'.format(epoch, running_loss / len(trainloader)))\n",
        "      train_losses.append(running_loss / len(trainloader))\n",
        "      val_l, val_a = validation_a_and_l(net, validloader, criterion, epoch)\n",
        "      val_losses.append(val_l)\n",
        "      val_accuracy.append(val_a)\n",
        "  print(\"Finished Training\")\n",
        "  return (net, train_losses, val_losses, val_accuracy)\n",
        "\n",
        "\n",
        "def accuracy(net, loader, k = 1):\n",
        "  # number of correct predictions\n",
        "  correct = 0\n",
        "  # total number of labels (= 10000)\n",
        "  total = 0\n",
        "  # puts net in evaluation mode\n",
        "  net.eval()\n",
        "  with torch.no_grad():\n",
        "    # loads in the data one batch at a time\n",
        "    for data in loader:\n",
        "        images, labels = data\n",
        "        # outputs is the new output from running those images through the net\n",
        "        outputs = net(images)\n",
        "        # gets predictions from network (top k)\n",
        "        _, predicted = torch.topk(outputs.data, k, dim = 1)\n",
        "        # transpose the predictions\n",
        "        predicted = predicted.t()\n",
        "        # expand the labels to be the same length as the predictions\n",
        "        labels_expanded = labels.view(1, -1).expand_as(predicted)\n",
        "        # if any of the top k choices match with the label adds to correct\n",
        "        topk_correct = (predicted == labels_expanded)\n",
        "        # reshape topk_correct \n",
        "        topk_matched_truth = topk_correct.reshape(-1).float()\n",
        "        # actually gets the number of correct lable sin the top k amount\n",
        "        correct += topk_matched_truth.float().sum(dim=0, keepdim=True)\n",
        "        # adds the total per batch\n",
        "        total += labels.size(0)\n",
        "  # prints the top k accuracy for the loader (usually testloader passed in)\n",
        "  print(\"Top {} accuracy: {:.1f}%\".format(k, 100 * int(correct) / total))\n",
        "\n",
        "\n",
        "def validation_a_and_l(net, validloader, criterion, epoch):\n",
        "  # number of correct predictions\n",
        "  correct = 0\n",
        "  # total number of labels (= 10000)\n",
        "  total = 0\n",
        "  # Running loss of validation\n",
        "  running_loss = 0.0\n",
        "  # puts net in evaluation mode\n",
        "  net.eval()\n",
        "  with torch.no_grad():\n",
        "    # loads in the data one batch at a time\n",
        "    for data in validloader:\n",
        "        # gets the images and labels from that batch\n",
        "        images, labels = data\n",
        "        # outputs is the new output from running those images through the net\n",
        "        outputs = net(images)\n",
        "        # gets predictions from network (top 1)\n",
        "        _, predicted = torch.max(outputs.data, 1)\n",
        "        # updates the total each batch\n",
        "        total += labels.size(0)\n",
        "        # updates with the total number of correct predictions each batch\n",
        "        correct += (predicted == labels).sum().item()\n",
        "        # updated the valiadation loss each batch\n",
        "        val_loss = criterion(outputs, labels)\n",
        "        # updates running loss with the new valiation loss\n",
        "        running_loss += val_loss\n",
        "  # prints the valiadtion loss and accuracy in this epoch\n",
        "  print('[{}] Validation loss: {:.3f}'.format(epoch, running_loss / len(validloader)))\n",
        "  print(\"[{}] Accuracy of validation set: {:.1f}%\".format(epoch, 100 * correct / total))\n",
        "  # returns the validation loss and accuracy in this epoch\n",
        "  return (running_loss / len(validloader), correct / total)\n",
        "\n",
        "# plots the losses\n",
        "def plot_losses(val_losses, train_losses, epochs):\n",
        "  plt.plot(val_losses, label = \"Validation\")\n",
        "  plt.plot(train_losses, label = \"Training\")\n",
        "  plt.xlabel(\"epochs\")\n",
        "  plt.ylabel(\"Losses\")\n",
        "  plt.legend(title = \"Losses\")\n",
        "  plt.title(\"Losses over {} epochs\".format(epochs))\n",
        "\n",
        "# plots the accuracy  \n",
        "def plot_accuracy(accuracy, epochs):\n",
        "  plt.plot(accuracy)\n",
        "  plt.xlabel(\"epochs\")\n",
        "  plt.ylabel(\"Accuracy\")\n",
        "  plt.title(\"Validation Accuracy over {} epochs\".format(epochs))\n"
      ],
      "execution_count": 15,
      "outputs": []
    },
    {
      "cell_type": "markdown",
      "metadata": {
        "id": "MG38ULly3eR6"
      },
      "source": [
        "Now we do the transformations and load in the data. I transform the training set with RandomCrop with padding (mode is reflect), and randomHorizontalFlip. We also normalize with the mean and std above\n"
      ]
    },
    {
      "cell_type": "code",
      "metadata": {
        "colab": {
          "base_uri": "https://localhost:8080/"
        },
        "id": "_qeB7ibkxZvF",
        "outputId": "32f38c7d-403f-4884-8f7c-5bd33701b8cd"
      },
      "source": [
        "transform1 = T.Compose(\n",
        "    [\n",
        "    T.RandomCrop(32, padding=4,padding_mode='reflect'),\n",
        "    T.RandomHorizontalFlip(),\n",
        "    T.ToTensor(),\n",
        "    T.Normalize((0.50695723, 0.48641145, 0.4407998), (0.25612617, 0.24619192, 0.2645457))]\n",
        "    )\n",
        "\n",
        "transform2 = T.Compose(\n",
        "    [\n",
        "    T.ToTensor(),\n",
        "    T.Normalize((0.50695723, 0.48641145, 0.4407998), (0.25612617, 0.24619192, 0.2645457))]\n",
        "    )\n",
        "\n",
        "trainset = torchvision.datasets.CIFAR100(root='./data', train = True,\n",
        "                                         download = True, transform = transform1)\n",
        "\n",
        "\n",
        "testset = torchvision.datasets.CIFAR100(root='./data', train = False,\n",
        "                                         download = True, transform = transform2)\n",
        "num_batches = 200\n",
        "\n",
        "\n"
      ],
      "execution_count": 16,
      "outputs": [
        {
          "output_type": "stream",
          "name": "stdout",
          "text": [
            "Files already downloaded and verified\n",
            "Files already downloaded and verified\n"
          ]
        }
      ]
    },
    {
      "cell_type": "markdown",
      "metadata": {
        "id": "AqlrEZg63YJm"
      },
      "source": [
        "## Split the validation and training set equally among classes\n",
        "\n",
        "\n",
        "This section shows how to use test_train_split from scikit learn to get the indices of each class in the sets, randomly scramble them with SubsetRandomSampler, and then load them in using the sample condition to get your validation set and testing set\n",
        "\n",
        "The validation set has 100 images of each class, as does the test set. The training set has 400 images of each class"
      ]
    },
    {
      "cell_type": "code",
      "metadata": {
        "colab": {
          "base_uri": "https://localhost:8080/"
        },
        "id": "oJrsiGZwyNaL",
        "outputId": "3b4a6029-917f-47a8-bda7-bfd7156deadc"
      },
      "source": [
        "device = get_device()\n",
        "print(device)\n",
        "\n",
        "# print((trainset.classes))\n",
        "# This gives the indices of the training set\n",
        "trainset_indices = [i for i in range(len(trainset))]\n",
        "# With this we can get a split of the indices of trainset to be compelety evenly split between the classes\n",
        "train_indices, val_indices, train_tar, val_tar = train_test_split(trainset_indices, trainset.targets, test_size = 0.2, stratify = trainset.targets, random_state=78)\n",
        "# this splits the subsets randomly for training samples\n",
        "train_sampler = SubsetRandomSampler(train_indices)\n",
        "# this splits the subsets randomly for validation samples\n",
        "val_sampler = SubsetRandomSampler(val_indices)\n",
        "#load them using dataloader, and use sampler with the indicies to know which ones have the correct split\n",
        "trainloader = DataLoader(trainset, num_workers=2,pin_memory=True, shuffle=False, batch_size=num_batches, sampler=train_sampler)\n",
        "validloader = DataLoader(trainset, num_workers=2,pin_memory=True, shuffle=False, batch_size=num_batches, sampler=val_sampler)\n",
        "testloader = DataLoader(testset, batch_size=num_batches, num_workers=2,pin_memory=True, shuffle=False)\n",
        "\n",
        "trainloader = ToDeviceLoader(trainloader,device)\n",
        "validloader = ToDeviceLoader(validloader,device)\n",
        "testloader = ToDeviceLoader(testloader,device)"
      ],
      "execution_count": 17,
      "outputs": [
        {
          "output_type": "stream",
          "name": "stdout",
          "text": [
            "cuda\n"
          ]
        }
      ]
    },
    {
      "cell_type": "markdown",
      "metadata": {
        "id": "o_YTckGG7G2g"
      },
      "source": [
        "LinearNet is the NN used for this. It has one hidden layer and 2048 nodes between the picture and the 100 classes"
      ]
    },
    {
      "cell_type": "code",
      "metadata": {
        "id": "UfKH1wdZyYtp"
      },
      "source": [
        "class LinearNet(nn.Module):\n",
        "    def __init__(self):\n",
        "        super(LinearNet, self).__init__()\n",
        "\n",
        "        self.fc1 = nn.Linear(32*32*3, 2048)\n",
        "        self.fc2 = nn.Linear(2048, 2048)\n",
        "        self.fc3 = nn.Linear(2048,100)\n",
        "\n",
        "        # self.dropout = nn.Dropout(p=0.5) # was added and taken out\n",
        "\n",
        "    def forward(self, x):\n",
        "        x = torch.flatten(x, 1)\n",
        "        x = self.fc1(x)\n",
        "        # x = self.dropout(x)  # was added and taken out\n",
        "        x = self.fc2(x)\n",
        "        # x = self.dropout(x)  # was added and taken out\n",
        "        x = self.fc3(x)\n",
        "        return x\n",
        "\n",
        "net = LinearNet()\n",
        "net = to_device(net,device) \n"
      ],
      "execution_count": 18,
      "outputs": []
    },
    {
      "cell_type": "markdown",
      "metadata": {
        "id": "vHuwp6Na7SiU"
      },
      "source": [
        "All of the different conditions needed to run the model"
      ]
    },
    {
      "cell_type": "code",
      "metadata": {
        "id": "C7p45XPizp76"
      },
      "source": [
        "epochs = 75\n",
        "\n",
        "criterion = nn.CrossEntropyLoss()\n",
        "optimizer = optim.SGD(net.parameters(), lr = 0.01, momentum = 0.9)\n",
        "# scheduler = optim.lr_scheduler.ExponentialLR(optimizer, gamma = 0.9, last_epoch=- 1, verbose=True)\n",
        "scheduler = optim.lr_scheduler.OneCycleLR(optimizer, max_lr = 0.01, epochs = epochs, steps_per_epoch=len(trainloader))"
      ],
      "execution_count": 19,
      "outputs": []
    },
    {
      "cell_type": "markdown",
      "metadata": {
        "id": "bQkRCF3E7WrB"
      },
      "source": [
        "Train the net using training!"
      ]
    },
    {
      "cell_type": "code",
      "metadata": {
        "colab": {
          "base_uri": "https://localhost:8080/"
        },
        "id": "3RbdPJEDzuZ6",
        "outputId": "52289612-e234-4062-af6b-82bac08fb5ff"
      },
      "source": [
        "net, train_losses, val_losses, val_accuracy = training(epochs, optimizer, scheduler, criterion, trainloader, validloader, net)\n"
      ],
      "execution_count": 20,
      "outputs": [
        {
          "output_type": "stream",
          "name": "stdout",
          "text": [
            "[0] Training loss: 4.330\n",
            "[0] Validation loss: 4.137\n",
            "[0] Accuracy of validation set: 8.2%\n",
            "[1] Training loss: 4.067\n",
            "[1] Validation loss: 4.015\n",
            "[1] Accuracy of validation set: 10.6%\n",
            "[2] Training loss: 3.969\n",
            "[2] Validation loss: 3.931\n",
            "[2] Accuracy of validation set: 12.2%\n",
            "[3] Training loss: 3.906\n",
            "[3] Validation loss: 3.887\n",
            "[3] Accuracy of validation set: 12.9%\n",
            "[4] Training loss: 3.872\n",
            "[4] Validation loss: 3.860\n",
            "[4] Accuracy of validation set: 13.3%\n",
            "[5] Training loss: 3.841\n",
            "[5] Validation loss: 3.835\n",
            "[5] Accuracy of validation set: 13.9%\n",
            "[6] Training loss: 3.825\n",
            "[6] Validation loss: 3.807\n",
            "[6] Accuracy of validation set: 14.0%\n",
            "[7] Training loss: 3.800\n",
            "[7] Validation loss: 3.807\n",
            "[7] Accuracy of validation set: 14.1%\n",
            "[8] Training loss: 3.780\n",
            "[8] Validation loss: 3.785\n",
            "[8] Accuracy of validation set: 15.0%\n",
            "[9] Training loss: 3.775\n",
            "[9] Validation loss: 3.777\n",
            "[9] Accuracy of validation set: 14.4%\n",
            "[10] Training loss: 3.765\n",
            "[10] Validation loss: 3.766\n",
            "[10] Accuracy of validation set: 15.1%\n",
            "[11] Training loss: 3.766\n",
            "[11] Validation loss: 3.772\n",
            "[11] Accuracy of validation set: 14.9%\n",
            "[12] Training loss: 3.756\n",
            "[12] Validation loss: 3.772\n",
            "[12] Accuracy of validation set: 14.7%\n",
            "[13] Training loss: 3.750\n",
            "[13] Validation loss: 3.754\n",
            "[13] Accuracy of validation set: 14.6%\n",
            "[14] Training loss: 3.751\n",
            "[14] Validation loss: 3.748\n",
            "[14] Accuracy of validation set: 14.8%\n",
            "[15] Training loss: 3.742\n",
            "[15] Validation loss: 3.752\n",
            "[15] Accuracy of validation set: 14.9%\n",
            "[16] Training loss: 3.742\n",
            "[16] Validation loss: 3.753\n",
            "[16] Accuracy of validation set: 15.1%\n",
            "[17] Training loss: 3.746\n",
            "[17] Validation loss: 3.754\n",
            "[17] Accuracy of validation set: 14.9%\n",
            "[18] Training loss: 3.740\n",
            "[18] Validation loss: 3.749\n",
            "[18] Accuracy of validation set: 15.4%\n",
            "[19] Training loss: 3.741\n",
            "[19] Validation loss: 3.746\n",
            "[19] Accuracy of validation set: 15.0%\n",
            "[20] Training loss: 3.742\n",
            "[20] Validation loss: 3.750\n",
            "[20] Accuracy of validation set: 15.1%\n",
            "[21] Training loss: 3.732\n",
            "[21] Validation loss: 3.744\n",
            "[21] Accuracy of validation set: 15.5%\n",
            "[22] Training loss: 3.728\n",
            "[22] Validation loss: 3.752\n",
            "[22] Accuracy of validation set: 15.2%\n",
            "[23] Training loss: 3.732\n",
            "[23] Validation loss: 3.743\n",
            "[23] Accuracy of validation set: 15.4%\n",
            "[24] Training loss: 3.731\n",
            "[24] Validation loss: 3.741\n",
            "[24] Accuracy of validation set: 15.1%\n",
            "[25] Training loss: 3.729\n",
            "[25] Validation loss: 3.737\n",
            "[25] Accuracy of validation set: 15.3%\n",
            "[26] Training loss: 3.731\n",
            "[26] Validation loss: 3.735\n",
            "[26] Accuracy of validation set: 15.6%\n",
            "[27] Training loss: 3.723\n",
            "[27] Validation loss: 3.746\n",
            "[27] Accuracy of validation set: 15.3%\n",
            "[28] Training loss: 3.724\n",
            "[28] Validation loss: 3.732\n",
            "[28] Accuracy of validation set: 15.6%\n",
            "[29] Training loss: 3.720\n",
            "[29] Validation loss: 3.745\n",
            "[29] Accuracy of validation set: 15.5%\n",
            "[30] Training loss: 3.719\n",
            "[30] Validation loss: 3.755\n",
            "[30] Accuracy of validation set: 15.1%\n",
            "[31] Training loss: 3.721\n",
            "[31] Validation loss: 3.740\n",
            "[31] Accuracy of validation set: 15.3%\n",
            "[32] Training loss: 3.717\n",
            "[32] Validation loss: 3.734\n",
            "[32] Accuracy of validation set: 15.7%\n",
            "[33] Training loss: 3.715\n",
            "[33] Validation loss: 3.739\n",
            "[33] Accuracy of validation set: 15.3%\n",
            "[34] Training loss: 3.717\n",
            "[34] Validation loss: 3.729\n",
            "[34] Accuracy of validation set: 15.7%\n",
            "[35] Training loss: 3.714\n",
            "[35] Validation loss: 3.740\n",
            "[35] Accuracy of validation set: 15.1%\n",
            "[36] Training loss: 3.717\n",
            "[36] Validation loss: 3.729\n",
            "[36] Accuracy of validation set: 15.4%\n",
            "[37] Training loss: 3.709\n",
            "[37] Validation loss: 3.736\n",
            "[37] Accuracy of validation set: 15.4%\n",
            "[38] Training loss: 3.709\n",
            "[38] Validation loss: 3.727\n",
            "[38] Accuracy of validation set: 15.3%\n",
            "[39] Training loss: 3.709\n",
            "[39] Validation loss: 3.735\n",
            "[39] Accuracy of validation set: 15.3%\n",
            "[40] Training loss: 3.705\n",
            "[40] Validation loss: 3.724\n",
            "[40] Accuracy of validation set: 15.8%\n",
            "[41] Training loss: 3.708\n",
            "[41] Validation loss: 3.722\n",
            "[41] Accuracy of validation set: 15.6%\n",
            "[42] Training loss: 3.704\n",
            "[42] Validation loss: 3.726\n",
            "[42] Accuracy of validation set: 15.6%\n",
            "[43] Training loss: 3.710\n",
            "[43] Validation loss: 3.722\n",
            "[43] Accuracy of validation set: 15.8%\n",
            "[44] Training loss: 3.707\n",
            "[44] Validation loss: 3.728\n",
            "[44] Accuracy of validation set: 15.8%\n",
            "[45] Training loss: 3.705\n",
            "[45] Validation loss: 3.729\n",
            "[45] Accuracy of validation set: 15.8%\n",
            "[46] Training loss: 3.699\n",
            "[46] Validation loss: 3.723\n",
            "[46] Accuracy of validation set: 15.7%\n",
            "[47] Training loss: 3.700\n",
            "[47] Validation loss: 3.721\n",
            "[47] Accuracy of validation set: 16.4%\n",
            "[48] Training loss: 3.699\n",
            "[48] Validation loss: 3.724\n",
            "[48] Accuracy of validation set: 15.8%\n",
            "[49] Training loss: 3.696\n",
            "[49] Validation loss: 3.718\n",
            "[49] Accuracy of validation set: 15.6%\n",
            "[50] Training loss: 3.697\n",
            "[50] Validation loss: 3.726\n",
            "[50] Accuracy of validation set: 16.0%\n",
            "[51] Training loss: 3.694\n",
            "[51] Validation loss: 3.714\n",
            "[51] Accuracy of validation set: 16.2%\n",
            "[52] Training loss: 3.692\n",
            "[52] Validation loss: 3.713\n",
            "[52] Accuracy of validation set: 16.0%\n",
            "[53] Training loss: 3.688\n",
            "[53] Validation loss: 3.711\n",
            "[53] Accuracy of validation set: 16.0%\n",
            "[54] Training loss: 3.686\n",
            "[54] Validation loss: 3.716\n",
            "[54] Accuracy of validation set: 15.8%\n",
            "[55] Training loss: 3.683\n",
            "[55] Validation loss: 3.713\n",
            "[55] Accuracy of validation set: 16.4%\n",
            "[56] Training loss: 3.687\n",
            "[56] Validation loss: 3.717\n",
            "[56] Accuracy of validation set: 16.1%\n",
            "[57] Training loss: 3.681\n",
            "[57] Validation loss: 3.708\n",
            "[57] Accuracy of validation set: 16.6%\n",
            "[58] Training loss: 3.681\n",
            "[58] Validation loss: 3.710\n",
            "[58] Accuracy of validation set: 16.2%\n",
            "[59] Training loss: 3.681\n",
            "[59] Validation loss: 3.718\n",
            "[59] Accuracy of validation set: 16.2%\n",
            "[60] Training loss: 3.677\n",
            "[60] Validation loss: 3.717\n",
            "[60] Accuracy of validation set: 16.2%\n",
            "[61] Training loss: 3.675\n",
            "[61] Validation loss: 3.701\n",
            "[61] Accuracy of validation set: 16.3%\n",
            "[62] Training loss: 3.670\n",
            "[62] Validation loss: 3.710\n",
            "[62] Accuracy of validation set: 16.2%\n",
            "[63] Training loss: 3.665\n",
            "[63] Validation loss: 3.704\n",
            "[63] Accuracy of validation set: 16.9%\n",
            "[64] Training loss: 3.668\n",
            "[64] Validation loss: 3.703\n",
            "[64] Accuracy of validation set: 16.5%\n",
            "[65] Training loss: 3.668\n",
            "[65] Validation loss: 3.694\n",
            "[65] Accuracy of validation set: 16.8%\n",
            "[66] Training loss: 3.663\n",
            "[66] Validation loss: 3.699\n",
            "[66] Accuracy of validation set: 16.6%\n",
            "[67] Training loss: 3.661\n",
            "[67] Validation loss: 3.697\n",
            "[67] Accuracy of validation set: 16.3%\n",
            "[68] Training loss: 3.657\n",
            "[68] Validation loss: 3.693\n",
            "[68] Accuracy of validation set: 16.4%\n",
            "[69] Training loss: 3.657\n",
            "[69] Validation loss: 3.700\n",
            "[69] Accuracy of validation set: 16.7%\n",
            "[70] Training loss: 3.660\n",
            "[70] Validation loss: 3.700\n",
            "[70] Accuracy of validation set: 17.0%\n",
            "[71] Training loss: 3.656\n",
            "[71] Validation loss: 3.695\n",
            "[71] Accuracy of validation set: 16.5%\n",
            "[72] Training loss: 3.648\n",
            "[72] Validation loss: 3.697\n",
            "[72] Accuracy of validation set: 16.7%\n",
            "[73] Training loss: 3.653\n",
            "[73] Validation loss: 3.695\n",
            "[73] Accuracy of validation set: 16.6%\n",
            "[74] Training loss: 3.655\n",
            "[74] Validation loss: 3.692\n",
            "[74] Accuracy of validation set: 16.7%\n",
            "Finished Training\n"
          ]
        }
      ]
    },
    {
      "cell_type": "markdown",
      "metadata": {
        "id": "3CaH0EG-7bdm"
      },
      "source": [
        "Prints the top 1 and top 5 accuracy of the trained net"
      ]
    },
    {
      "cell_type": "code",
      "metadata": {
        "colab": {
          "base_uri": "https://localhost:8080/"
        },
        "id": "4Xs7jeLjW5P6",
        "outputId": "5eebc547-38a1-4866-b45a-7da322a7a7c9"
      },
      "source": [
        "accuracy(net, testloader, k = 1)\n",
        "accuracy(net, testloader, k = 5)"
      ],
      "execution_count": 21,
      "outputs": [
        {
          "output_type": "stream",
          "name": "stdout",
          "text": [
            "Top 1 accuracy: 18.6%\n",
            "Top 5 accuracy: 42.2%\n"
          ]
        }
      ]
    },
    {
      "cell_type": "markdown",
      "metadata": {
        "id": "aLy--VKG65rk"
      },
      "source": [
        "The losses of training and validation for each epoch plotted"
      ]
    },
    {
      "cell_type": "code",
      "metadata": {
        "colab": {
          "base_uri": "https://localhost:8080/",
          "height": 295
        },
        "id": "BdDnAoJLW8L3",
        "outputId": "6ba492c4-1f19-45ab-e1f2-4e1b091f6696"
      },
      "source": [
        "plot_losses(train_losses, val_losses, epochs)"
      ],
      "execution_count": 22,
      "outputs": [
        {
          "output_type": "display_data",
          "data": {
            "image/png": "[encoded data removed]",
            "text/plain": [
              "<Figure size 432x288 with 1 Axes>"
            ]
          },
          "metadata": {
            "needs_background": "light"
          }
        }
      ]
    },
    {
      "cell_type": "markdown",
      "metadata": {
        "id": "-4PnqWTL6-9T"
      },
      "source": [
        "The accuracy of the validation set each epoch plotted"
      ]
    },
    {
      "cell_type": "code",
      "metadata": {
        "colab": {
          "base_uri": "https://localhost:8080/",
          "height": 295
        },
        "id": "id_vouabiPdt",
        "outputId": "5990aba4-e849-4c48-8617-2496c19aa690"
      },
      "source": [
        "plot_accuracy(val_accuracy, epochs)"
      ],
      "execution_count": 23,
      "outputs": [
        {
          "output_type": "display_data",
          "data": {
            "image/png": "[encoded data removed]",
            "text/plain": [
              "<Figure size 432x288 with 1 Axes>"
            ]
          },
          "metadata": {
            "needs_background": "light"
          }
        }
      ]
    }
  ]
}